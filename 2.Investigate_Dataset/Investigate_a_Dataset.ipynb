{
 "cells": [
  {
   "cell_type": "markdown",
   "metadata": {},
   "source": [
    "# Project: Investigate TMDB Movie Dataset\n",
    "\n",
    "\n",
    "## Table of Contents\n",
    "<ul>\n",
    "<li><a href=\"#intro\">Introduction</a></li>\n",
    "<li><a href=\"#wrangling\">Data Wrangling</a></li>\n",
    "<li><a href=\"#eda\">Exploratory Data Analysis</a></li>\n",
    "<li><a href=\"#conclusions\">Conclusions</a></li>\n",
    "</ul>"
   ]
  },
  {
   "cell_type": "markdown",
   "metadata": {},
   "source": [
    "<a id='intro'></a>\n",
    "## Introduction\n",
    "\n",
    "I have chosen TMDB movie data set for this project. <br>\n",
    "This data set contains information about 10,000 movies collected from The Movie Database (TMDb). <br>\n",
    "\n",
    "**Independent variables thet will be explored**:<br>\n",
    "- Budget  (How the budget changes over years)  <br>\n",
    "- Revenue (How the revenue changes over years) <br>\n",
    "- Runtime (What is the average runtime of movies) <br>\n",
    "\n",
    "**Dependent variables thet will be explored**:<br>\n",
    "- Budget and popularity, revenue and popularity, runtime and popularity <br>"
   ]
  },
  {
   "cell_type": "code",
   "execution_count": 1,
   "metadata": {},
   "outputs": [],
   "source": [
    "# import statements for all of the packages that will be used\n",
    "\n",
    "import numpy as np\n",
    "import pandas as pd\n",
    "import matplotlib.pyplot as plt\n",
    "% matplotlib inline"
   ]
  },
  {
   "cell_type": "markdown",
   "metadata": {},
   "source": [
    "<a id='wrangling'></a>\n",
    "## Data Wrangling\n",
    "\n",
    "### General Properties"
   ]
  },
  {
   "cell_type": "code",
   "execution_count": 2,
   "metadata": {},
   "outputs": [],
   "source": [
    "# Loading the data\n",
    "df = pd.read_csv('tmdb-movies.csv')"
   ]
  },
  {
   "cell_type": "markdown",
   "metadata": {},
   "source": [
    "I will use the following helpful methods for **assessing and building** intuition about a dataset."
   ]
  },
  {
   "cell_type": "code",
   "execution_count": 3,
   "metadata": {},
   "outputs": [
    {
     "data": {
      "text/html": [
       "<div>\n",
       "<style>\n",
       "    .dataframe thead tr:only-child th {\n",
       "        text-align: right;\n",
       "    }\n",
       "\n",
       "    .dataframe thead th {\n",
       "        text-align: left;\n",
       "    }\n",
       "\n",
       "    .dataframe tbody tr th {\n",
       "        vertical-align: top;\n",
       "    }\n",
       "</style>\n",
       "<table border=\"1\" class=\"dataframe\">\n",
       "  <thead>\n",
       "    <tr style=\"text-align: right;\">\n",
       "      <th></th>\n",
       "      <th>id</th>\n",
       "      <th>imdb_id</th>\n",
       "      <th>popularity</th>\n",
       "      <th>budget</th>\n",
       "      <th>revenue</th>\n",
       "      <th>original_title</th>\n",
       "      <th>cast</th>\n",
       "      <th>homepage</th>\n",
       "      <th>director</th>\n",
       "      <th>tagline</th>\n",
       "      <th>...</th>\n",
       "      <th>overview</th>\n",
       "      <th>runtime</th>\n",
       "      <th>genres</th>\n",
       "      <th>production_companies</th>\n",
       "      <th>release_date</th>\n",
       "      <th>vote_count</th>\n",
       "      <th>vote_average</th>\n",
       "      <th>release_year</th>\n",
       "      <th>budget_adj</th>\n",
       "      <th>revenue_adj</th>\n",
       "    </tr>\n",
       "  </thead>\n",
       "  <tbody>\n",
       "    <tr>\n",
       "      <th>0</th>\n",
       "      <td>135397</td>\n",
       "      <td>tt0369610</td>\n",
       "      <td>32.985763</td>\n",
       "      <td>150000000</td>\n",
       "      <td>1513528810</td>\n",
       "      <td>Jurassic World</td>\n",
       "      <td>Chris Pratt|Bryce Dallas Howard|Irrfan Khan|Vi...</td>\n",
       "      <td>http://www.jurassicworld.com/</td>\n",
       "      <td>Colin Trevorrow</td>\n",
       "      <td>The park is open.</td>\n",
       "      <td>...</td>\n",
       "      <td>Twenty-two years after the events of Jurassic ...</td>\n",
       "      <td>124</td>\n",
       "      <td>Action|Adventure|Science Fiction|Thriller</td>\n",
       "      <td>Universal Studios|Amblin Entertainment|Legenda...</td>\n",
       "      <td>6/9/15</td>\n",
       "      <td>5562</td>\n",
       "      <td>6.5</td>\n",
       "      <td>2015</td>\n",
       "      <td>1.379999e+08</td>\n",
       "      <td>1.392446e+09</td>\n",
       "    </tr>\n",
       "    <tr>\n",
       "      <th>1</th>\n",
       "      <td>76341</td>\n",
       "      <td>tt1392190</td>\n",
       "      <td>28.419936</td>\n",
       "      <td>150000000</td>\n",
       "      <td>378436354</td>\n",
       "      <td>Mad Max: Fury Road</td>\n",
       "      <td>Tom Hardy|Charlize Theron|Hugh Keays-Byrne|Nic...</td>\n",
       "      <td>http://www.madmaxmovie.com/</td>\n",
       "      <td>George Miller</td>\n",
       "      <td>What a Lovely Day.</td>\n",
       "      <td>...</td>\n",
       "      <td>An apocalyptic story set in the furthest reach...</td>\n",
       "      <td>120</td>\n",
       "      <td>Action|Adventure|Science Fiction|Thriller</td>\n",
       "      <td>Village Roadshow Pictures|Kennedy Miller Produ...</td>\n",
       "      <td>5/13/15</td>\n",
       "      <td>6185</td>\n",
       "      <td>7.1</td>\n",
       "      <td>2015</td>\n",
       "      <td>1.379999e+08</td>\n",
       "      <td>3.481613e+08</td>\n",
       "    </tr>\n",
       "    <tr>\n",
       "      <th>2</th>\n",
       "      <td>262500</td>\n",
       "      <td>tt2908446</td>\n",
       "      <td>13.112507</td>\n",
       "      <td>110000000</td>\n",
       "      <td>295238201</td>\n",
       "      <td>Insurgent</td>\n",
       "      <td>Shailene Woodley|Theo James|Kate Winslet|Ansel...</td>\n",
       "      <td>http://www.thedivergentseries.movie/#insurgent</td>\n",
       "      <td>Robert Schwentke</td>\n",
       "      <td>One Choice Can Destroy You</td>\n",
       "      <td>...</td>\n",
       "      <td>Beatrice Prior must confront her inner demons ...</td>\n",
       "      <td>119</td>\n",
       "      <td>Adventure|Science Fiction|Thriller</td>\n",
       "      <td>Summit Entertainment|Mandeville Films|Red Wago...</td>\n",
       "      <td>3/18/15</td>\n",
       "      <td>2480</td>\n",
       "      <td>6.3</td>\n",
       "      <td>2015</td>\n",
       "      <td>1.012000e+08</td>\n",
       "      <td>2.716190e+08</td>\n",
       "    </tr>\n",
       "    <tr>\n",
       "      <th>3</th>\n",
       "      <td>140607</td>\n",
       "      <td>tt2488496</td>\n",
       "      <td>11.173104</td>\n",
       "      <td>200000000</td>\n",
       "      <td>2068178225</td>\n",
       "      <td>Star Wars: The Force Awakens</td>\n",
       "      <td>Harrison Ford|Mark Hamill|Carrie Fisher|Adam D...</td>\n",
       "      <td>http://www.starwars.com/films/star-wars-episod...</td>\n",
       "      <td>J.J. Abrams</td>\n",
       "      <td>Every generation has a story.</td>\n",
       "      <td>...</td>\n",
       "      <td>Thirty years after defeating the Galactic Empi...</td>\n",
       "      <td>136</td>\n",
       "      <td>Action|Adventure|Science Fiction|Fantasy</td>\n",
       "      <td>Lucasfilm|Truenorth Productions|Bad Robot</td>\n",
       "      <td>12/15/15</td>\n",
       "      <td>5292</td>\n",
       "      <td>7.5</td>\n",
       "      <td>2015</td>\n",
       "      <td>1.839999e+08</td>\n",
       "      <td>1.902723e+09</td>\n",
       "    </tr>\n",
       "    <tr>\n",
       "      <th>4</th>\n",
       "      <td>168259</td>\n",
       "      <td>tt2820852</td>\n",
       "      <td>9.335014</td>\n",
       "      <td>190000000</td>\n",
       "      <td>1506249360</td>\n",
       "      <td>Furious 7</td>\n",
       "      <td>Vin Diesel|Paul Walker|Jason Statham|Michelle ...</td>\n",
       "      <td>http://www.furious7.com/</td>\n",
       "      <td>James Wan</td>\n",
       "      <td>Vengeance Hits Home</td>\n",
       "      <td>...</td>\n",
       "      <td>Deckard Shaw seeks revenge against Dominic Tor...</td>\n",
       "      <td>137</td>\n",
       "      <td>Action|Crime|Thriller</td>\n",
       "      <td>Universal Pictures|Original Film|Media Rights ...</td>\n",
       "      <td>4/1/15</td>\n",
       "      <td>2947</td>\n",
       "      <td>7.3</td>\n",
       "      <td>2015</td>\n",
       "      <td>1.747999e+08</td>\n",
       "      <td>1.385749e+09</td>\n",
       "    </tr>\n",
       "  </tbody>\n",
       "</table>\n",
       "<p>5 rows × 21 columns</p>\n",
       "</div>"
      ],
      "text/plain": [
       "       id    imdb_id  popularity     budget     revenue  \\\n",
       "0  135397  tt0369610   32.985763  150000000  1513528810   \n",
       "1   76341  tt1392190   28.419936  150000000   378436354   \n",
       "2  262500  tt2908446   13.112507  110000000   295238201   \n",
       "3  140607  tt2488496   11.173104  200000000  2068178225   \n",
       "4  168259  tt2820852    9.335014  190000000  1506249360   \n",
       "\n",
       "                 original_title  \\\n",
       "0                Jurassic World   \n",
       "1            Mad Max: Fury Road   \n",
       "2                     Insurgent   \n",
       "3  Star Wars: The Force Awakens   \n",
       "4                     Furious 7   \n",
       "\n",
       "                                                cast  \\\n",
       "0  Chris Pratt|Bryce Dallas Howard|Irrfan Khan|Vi...   \n",
       "1  Tom Hardy|Charlize Theron|Hugh Keays-Byrne|Nic...   \n",
       "2  Shailene Woodley|Theo James|Kate Winslet|Ansel...   \n",
       "3  Harrison Ford|Mark Hamill|Carrie Fisher|Adam D...   \n",
       "4  Vin Diesel|Paul Walker|Jason Statham|Michelle ...   \n",
       "\n",
       "                                            homepage          director  \\\n",
       "0                      http://www.jurassicworld.com/   Colin Trevorrow   \n",
       "1                        http://www.madmaxmovie.com/     George Miller   \n",
       "2     http://www.thedivergentseries.movie/#insurgent  Robert Schwentke   \n",
       "3  http://www.starwars.com/films/star-wars-episod...       J.J. Abrams   \n",
       "4                           http://www.furious7.com/         James Wan   \n",
       "\n",
       "                         tagline      ...       \\\n",
       "0              The park is open.      ...        \n",
       "1             What a Lovely Day.      ...        \n",
       "2     One Choice Can Destroy You      ...        \n",
       "3  Every generation has a story.      ...        \n",
       "4            Vengeance Hits Home      ...        \n",
       "\n",
       "                                            overview runtime  \\\n",
       "0  Twenty-two years after the events of Jurassic ...     124   \n",
       "1  An apocalyptic story set in the furthest reach...     120   \n",
       "2  Beatrice Prior must confront her inner demons ...     119   \n",
       "3  Thirty years after defeating the Galactic Empi...     136   \n",
       "4  Deckard Shaw seeks revenge against Dominic Tor...     137   \n",
       "\n",
       "                                      genres  \\\n",
       "0  Action|Adventure|Science Fiction|Thriller   \n",
       "1  Action|Adventure|Science Fiction|Thriller   \n",
       "2         Adventure|Science Fiction|Thriller   \n",
       "3   Action|Adventure|Science Fiction|Fantasy   \n",
       "4                      Action|Crime|Thriller   \n",
       "\n",
       "                                production_companies release_date vote_count  \\\n",
       "0  Universal Studios|Amblin Entertainment|Legenda...       6/9/15       5562   \n",
       "1  Village Roadshow Pictures|Kennedy Miller Produ...      5/13/15       6185   \n",
       "2  Summit Entertainment|Mandeville Films|Red Wago...      3/18/15       2480   \n",
       "3          Lucasfilm|Truenorth Productions|Bad Robot     12/15/15       5292   \n",
       "4  Universal Pictures|Original Film|Media Rights ...       4/1/15       2947   \n",
       "\n",
       "   vote_average  release_year    budget_adj   revenue_adj  \n",
       "0           6.5          2015  1.379999e+08  1.392446e+09  \n",
       "1           7.1          2015  1.379999e+08  3.481613e+08  \n",
       "2           6.3          2015  1.012000e+08  2.716190e+08  \n",
       "3           7.5          2015  1.839999e+08  1.902723e+09  \n",
       "4           7.3          2015  1.747999e+08  1.385749e+09  \n",
       "\n",
       "[5 rows x 21 columns]"
      ]
     },
     "execution_count": 3,
     "metadata": {},
     "output_type": "execute_result"
    }
   ],
   "source": [
    "df.head()"
   ]
  },
  {
   "cell_type": "code",
   "execution_count": 4,
   "metadata": {},
   "outputs": [
    {
     "data": {
      "text/plain": [
       "(10866, 21)"
      ]
     },
     "execution_count": 4,
     "metadata": {},
     "output_type": "execute_result"
    }
   ],
   "source": [
    "#the dimensions of the dataframe\n",
    "df.shape"
   ]
  },
  {
   "cell_type": "markdown",
   "metadata": {},
   "source": [
    "This data set consists of 10866 rows and 21 columns"
   ]
  },
  {
   "cell_type": "code",
   "execution_count": 5,
   "metadata": {},
   "outputs": [
    {
     "data": {
      "text/plain": [
       "id                        int64\n",
       "imdb_id                  object\n",
       "popularity              float64\n",
       "budget                    int64\n",
       "revenue                   int64\n",
       "original_title           object\n",
       "cast                     object\n",
       "homepage                 object\n",
       "director                 object\n",
       "tagline                  object\n",
       "keywords                 object\n",
       "overview                 object\n",
       "runtime                   int64\n",
       "genres                   object\n",
       "production_companies     object\n",
       "release_date             object\n",
       "vote_count                int64\n",
       "vote_average            float64\n",
       "release_year              int64\n",
       "budget_adj              float64\n",
       "revenue_adj             float64\n",
       "dtype: object"
      ]
     },
     "execution_count": 5,
     "metadata": {},
     "output_type": "execute_result"
    }
   ],
   "source": [
    "#the datatypes of the columns\n",
    "df.dtypes"
   ]
  },
  {
   "cell_type": "code",
   "execution_count": 6,
   "metadata": {},
   "outputs": [
    {
     "name": "stdout",
     "output_type": "stream",
     "text": [
      "<class 'pandas.core.frame.DataFrame'>\n",
      "RangeIndex: 10866 entries, 0 to 10865\n",
      "Data columns (total 21 columns):\n",
      "id                      10866 non-null int64\n",
      "imdb_id                 10856 non-null object\n",
      "popularity              10866 non-null float64\n",
      "budget                  10866 non-null int64\n",
      "revenue                 10866 non-null int64\n",
      "original_title          10866 non-null object\n",
      "cast                    10790 non-null object\n",
      "homepage                2936 non-null object\n",
      "director                10822 non-null object\n",
      "tagline                 8042 non-null object\n",
      "keywords                9373 non-null object\n",
      "overview                10862 non-null object\n",
      "runtime                 10866 non-null int64\n",
      "genres                  10843 non-null object\n",
      "production_companies    9836 non-null object\n",
      "release_date            10866 non-null object\n",
      "vote_count              10866 non-null int64\n",
      "vote_average            10866 non-null float64\n",
      "release_year            10866 non-null int64\n",
      "budget_adj              10866 non-null float64\n",
      "revenue_adj             10866 non-null float64\n",
      "dtypes: float64(4), int64(6), object(11)\n",
      "memory usage: 1.7+ MB\n"
     ]
    }
   ],
   "source": [
    "#concise summary of the dataframe, including the number of non-null values in each column\n",
    "df.info()"
   ]
  },
  {
   "cell_type": "markdown",
   "metadata": {},
   "source": [
    "As shown above, the columns with null values are: imdb_id, cast, homepage, director, tagline, keywords, overview, genres and production_companies."
   ]
  },
  {
   "cell_type": "code",
   "execution_count": 7,
   "metadata": {},
   "outputs": [
    {
     "data": {
      "text/plain": [
       "id                      10865\n",
       "imdb_id                 10855\n",
       "popularity              10814\n",
       "budget                    557\n",
       "revenue                  4702\n",
       "original_title          10571\n",
       "cast                    10719\n",
       "homepage                 2896\n",
       "director                 5067\n",
       "tagline                  7997\n",
       "keywords                 8804\n",
       "overview                10847\n",
       "runtime                   247\n",
       "genres                   2039\n",
       "production_companies     7445\n",
       "release_date             5909\n",
       "vote_count               1289\n",
       "vote_average               72\n",
       "release_year               56\n",
       "budget_adj               2614\n",
       "revenue_adj              4840\n",
       "dtype: int64"
      ]
     },
     "execution_count": 7,
     "metadata": {},
     "output_type": "execute_result"
    }
   ],
   "source": [
    "#the number of unique values in each column\n",
    "df.nunique()"
   ]
  },
  {
   "cell_type": "code",
   "execution_count": 8,
   "metadata": {},
   "outputs": [
    {
     "data": {
      "text/plain": [
       "1"
      ]
     },
     "execution_count": 8,
     "metadata": {},
     "output_type": "execute_result"
    }
   ],
   "source": [
    "#check for duplicates in the data\n",
    "sum(df.duplicated())"
   ]
  },
  {
   "cell_type": "code",
   "execution_count": 9,
   "metadata": {},
   "outputs": [
    {
     "data": {
      "text/html": [
       "<div>\n",
       "<style>\n",
       "    .dataframe thead tr:only-child th {\n",
       "        text-align: right;\n",
       "    }\n",
       "\n",
       "    .dataframe thead th {\n",
       "        text-align: left;\n",
       "    }\n",
       "\n",
       "    .dataframe tbody tr th {\n",
       "        vertical-align: top;\n",
       "    }\n",
       "</style>\n",
       "<table border=\"1\" class=\"dataframe\">\n",
       "  <thead>\n",
       "    <tr style=\"text-align: right;\">\n",
       "      <th></th>\n",
       "      <th>id</th>\n",
       "      <th>popularity</th>\n",
       "      <th>budget</th>\n",
       "      <th>revenue</th>\n",
       "      <th>runtime</th>\n",
       "      <th>vote_count</th>\n",
       "      <th>vote_average</th>\n",
       "      <th>release_year</th>\n",
       "      <th>budget_adj</th>\n",
       "      <th>revenue_adj</th>\n",
       "    </tr>\n",
       "  </thead>\n",
       "  <tbody>\n",
       "    <tr>\n",
       "      <th>count</th>\n",
       "      <td>10866.000000</td>\n",
       "      <td>10866.000000</td>\n",
       "      <td>1.086600e+04</td>\n",
       "      <td>1.086600e+04</td>\n",
       "      <td>10866.000000</td>\n",
       "      <td>10866.000000</td>\n",
       "      <td>10866.000000</td>\n",
       "      <td>10866.000000</td>\n",
       "      <td>1.086600e+04</td>\n",
       "      <td>1.086600e+04</td>\n",
       "    </tr>\n",
       "    <tr>\n",
       "      <th>mean</th>\n",
       "      <td>66064.177434</td>\n",
       "      <td>0.646441</td>\n",
       "      <td>1.462570e+07</td>\n",
       "      <td>3.982332e+07</td>\n",
       "      <td>102.070863</td>\n",
       "      <td>217.389748</td>\n",
       "      <td>5.974922</td>\n",
       "      <td>2001.322658</td>\n",
       "      <td>1.755104e+07</td>\n",
       "      <td>5.136436e+07</td>\n",
       "    </tr>\n",
       "    <tr>\n",
       "      <th>std</th>\n",
       "      <td>92130.136561</td>\n",
       "      <td>1.000185</td>\n",
       "      <td>3.091321e+07</td>\n",
       "      <td>1.170035e+08</td>\n",
       "      <td>31.381405</td>\n",
       "      <td>575.619058</td>\n",
       "      <td>0.935142</td>\n",
       "      <td>12.812941</td>\n",
       "      <td>3.430616e+07</td>\n",
       "      <td>1.446325e+08</td>\n",
       "    </tr>\n",
       "    <tr>\n",
       "      <th>min</th>\n",
       "      <td>5.000000</td>\n",
       "      <td>0.000065</td>\n",
       "      <td>0.000000e+00</td>\n",
       "      <td>0.000000e+00</td>\n",
       "      <td>0.000000</td>\n",
       "      <td>10.000000</td>\n",
       "      <td>1.500000</td>\n",
       "      <td>1960.000000</td>\n",
       "      <td>0.000000e+00</td>\n",
       "      <td>0.000000e+00</td>\n",
       "    </tr>\n",
       "    <tr>\n",
       "      <th>25%</th>\n",
       "      <td>10596.250000</td>\n",
       "      <td>0.207583</td>\n",
       "      <td>0.000000e+00</td>\n",
       "      <td>0.000000e+00</td>\n",
       "      <td>90.000000</td>\n",
       "      <td>17.000000</td>\n",
       "      <td>5.400000</td>\n",
       "      <td>1995.000000</td>\n",
       "      <td>0.000000e+00</td>\n",
       "      <td>0.000000e+00</td>\n",
       "    </tr>\n",
       "    <tr>\n",
       "      <th>50%</th>\n",
       "      <td>20669.000000</td>\n",
       "      <td>0.383856</td>\n",
       "      <td>0.000000e+00</td>\n",
       "      <td>0.000000e+00</td>\n",
       "      <td>99.000000</td>\n",
       "      <td>38.000000</td>\n",
       "      <td>6.000000</td>\n",
       "      <td>2006.000000</td>\n",
       "      <td>0.000000e+00</td>\n",
       "      <td>0.000000e+00</td>\n",
       "    </tr>\n",
       "    <tr>\n",
       "      <th>75%</th>\n",
       "      <td>75610.000000</td>\n",
       "      <td>0.713817</td>\n",
       "      <td>1.500000e+07</td>\n",
       "      <td>2.400000e+07</td>\n",
       "      <td>111.000000</td>\n",
       "      <td>145.750000</td>\n",
       "      <td>6.600000</td>\n",
       "      <td>2011.000000</td>\n",
       "      <td>2.085325e+07</td>\n",
       "      <td>3.369710e+07</td>\n",
       "    </tr>\n",
       "    <tr>\n",
       "      <th>max</th>\n",
       "      <td>417859.000000</td>\n",
       "      <td>32.985763</td>\n",
       "      <td>4.250000e+08</td>\n",
       "      <td>2.781506e+09</td>\n",
       "      <td>900.000000</td>\n",
       "      <td>9767.000000</td>\n",
       "      <td>9.200000</td>\n",
       "      <td>2015.000000</td>\n",
       "      <td>4.250000e+08</td>\n",
       "      <td>2.827124e+09</td>\n",
       "    </tr>\n",
       "  </tbody>\n",
       "</table>\n",
       "</div>"
      ],
      "text/plain": [
       "                  id    popularity        budget       revenue       runtime  \\\n",
       "count   10866.000000  10866.000000  1.086600e+04  1.086600e+04  10866.000000   \n",
       "mean    66064.177434      0.646441  1.462570e+07  3.982332e+07    102.070863   \n",
       "std     92130.136561      1.000185  3.091321e+07  1.170035e+08     31.381405   \n",
       "min         5.000000      0.000065  0.000000e+00  0.000000e+00      0.000000   \n",
       "25%     10596.250000      0.207583  0.000000e+00  0.000000e+00     90.000000   \n",
       "50%     20669.000000      0.383856  0.000000e+00  0.000000e+00     99.000000   \n",
       "75%     75610.000000      0.713817  1.500000e+07  2.400000e+07    111.000000   \n",
       "max    417859.000000     32.985763  4.250000e+08  2.781506e+09    900.000000   \n",
       "\n",
       "         vote_count  vote_average  release_year    budget_adj   revenue_adj  \n",
       "count  10866.000000  10866.000000  10866.000000  1.086600e+04  1.086600e+04  \n",
       "mean     217.389748      5.974922   2001.322658  1.755104e+07  5.136436e+07  \n",
       "std      575.619058      0.935142     12.812941  3.430616e+07  1.446325e+08  \n",
       "min       10.000000      1.500000   1960.000000  0.000000e+00  0.000000e+00  \n",
       "25%       17.000000      5.400000   1995.000000  0.000000e+00  0.000000e+00  \n",
       "50%       38.000000      6.000000   2006.000000  0.000000e+00  0.000000e+00  \n",
       "75%      145.750000      6.600000   2011.000000  2.085325e+07  3.369710e+07  \n",
       "max     9767.000000      9.200000   2015.000000  4.250000e+08  2.827124e+09  "
      ]
     },
     "execution_count": 9,
     "metadata": {},
     "output_type": "execute_result"
    }
   ],
   "source": [
    "#descriptive statistics for each column of data\n",
    "df.describe()"
   ]
  },
  {
   "cell_type": "markdown",
   "metadata": {},
   "source": [
    "### Data Cleaning (Dropping unnecessary columns, Handling null values and Dropping Duplicates)"
   ]
  },
  {
   "cell_type": "markdown",
   "metadata": {
    "collapsed": true
   },
   "source": [
    "#### a. Dropping Unnecessary Columns: "
   ]
  },
  {
   "cell_type": "code",
   "execution_count": 3,
   "metadata": {},
   "outputs": [
    {
     "data": {
      "text/html": [
       "<div>\n",
       "<style>\n",
       "    .dataframe thead tr:only-child th {\n",
       "        text-align: right;\n",
       "    }\n",
       "\n",
       "    .dataframe thead th {\n",
       "        text-align: left;\n",
       "    }\n",
       "\n",
       "    .dataframe tbody tr th {\n",
       "        vertical-align: top;\n",
       "    }\n",
       "</style>\n",
       "<table border=\"1\" class=\"dataframe\">\n",
       "  <thead>\n",
       "    <tr style=\"text-align: right;\">\n",
       "      <th></th>\n",
       "      <th>imdb_id</th>\n",
       "      <th>popularity</th>\n",
       "      <th>budget</th>\n",
       "      <th>revenue</th>\n",
       "      <th>original_title</th>\n",
       "      <th>cast</th>\n",
       "      <th>director</th>\n",
       "      <th>runtime</th>\n",
       "      <th>genres</th>\n",
       "      <th>production_companies</th>\n",
       "      <th>release_date</th>\n",
       "      <th>release_year</th>\n",
       "    </tr>\n",
       "  </thead>\n",
       "  <tbody>\n",
       "    <tr>\n",
       "      <th>0</th>\n",
       "      <td>tt0369610</td>\n",
       "      <td>32.985763</td>\n",
       "      <td>150000000</td>\n",
       "      <td>1513528810</td>\n",
       "      <td>Jurassic World</td>\n",
       "      <td>Chris Pratt|Bryce Dallas Howard|Irrfan Khan|Vi...</td>\n",
       "      <td>Colin Trevorrow</td>\n",
       "      <td>124</td>\n",
       "      <td>Action|Adventure|Science Fiction|Thriller</td>\n",
       "      <td>Universal Studios|Amblin Entertainment|Legenda...</td>\n",
       "      <td>6/9/15</td>\n",
       "      <td>2015</td>\n",
       "    </tr>\n",
       "    <tr>\n",
       "      <th>1</th>\n",
       "      <td>tt1392190</td>\n",
       "      <td>28.419936</td>\n",
       "      <td>150000000</td>\n",
       "      <td>378436354</td>\n",
       "      <td>Mad Max: Fury Road</td>\n",
       "      <td>Tom Hardy|Charlize Theron|Hugh Keays-Byrne|Nic...</td>\n",
       "      <td>George Miller</td>\n",
       "      <td>120</td>\n",
       "      <td>Action|Adventure|Science Fiction|Thriller</td>\n",
       "      <td>Village Roadshow Pictures|Kennedy Miller Produ...</td>\n",
       "      <td>5/13/15</td>\n",
       "      <td>2015</td>\n",
       "    </tr>\n",
       "    <tr>\n",
       "      <th>2</th>\n",
       "      <td>tt2908446</td>\n",
       "      <td>13.112507</td>\n",
       "      <td>110000000</td>\n",
       "      <td>295238201</td>\n",
       "      <td>Insurgent</td>\n",
       "      <td>Shailene Woodley|Theo James|Kate Winslet|Ansel...</td>\n",
       "      <td>Robert Schwentke</td>\n",
       "      <td>119</td>\n",
       "      <td>Adventure|Science Fiction|Thriller</td>\n",
       "      <td>Summit Entertainment|Mandeville Films|Red Wago...</td>\n",
       "      <td>3/18/15</td>\n",
       "      <td>2015</td>\n",
       "    </tr>\n",
       "    <tr>\n",
       "      <th>3</th>\n",
       "      <td>tt2488496</td>\n",
       "      <td>11.173104</td>\n",
       "      <td>200000000</td>\n",
       "      <td>2068178225</td>\n",
       "      <td>Star Wars: The Force Awakens</td>\n",
       "      <td>Harrison Ford|Mark Hamill|Carrie Fisher|Adam D...</td>\n",
       "      <td>J.J. Abrams</td>\n",
       "      <td>136</td>\n",
       "      <td>Action|Adventure|Science Fiction|Fantasy</td>\n",
       "      <td>Lucasfilm|Truenorth Productions|Bad Robot</td>\n",
       "      <td>12/15/15</td>\n",
       "      <td>2015</td>\n",
       "    </tr>\n",
       "    <tr>\n",
       "      <th>4</th>\n",
       "      <td>tt2820852</td>\n",
       "      <td>9.335014</td>\n",
       "      <td>190000000</td>\n",
       "      <td>1506249360</td>\n",
       "      <td>Furious 7</td>\n",
       "      <td>Vin Diesel|Paul Walker|Jason Statham|Michelle ...</td>\n",
       "      <td>James Wan</td>\n",
       "      <td>137</td>\n",
       "      <td>Action|Crime|Thriller</td>\n",
       "      <td>Universal Pictures|Original Film|Media Rights ...</td>\n",
       "      <td>4/1/15</td>\n",
       "      <td>2015</td>\n",
       "    </tr>\n",
       "  </tbody>\n",
       "</table>\n",
       "</div>"
      ],
      "text/plain": [
       "     imdb_id  popularity     budget     revenue                original_title  \\\n",
       "0  tt0369610   32.985763  150000000  1513528810                Jurassic World   \n",
       "1  tt1392190   28.419936  150000000   378436354            Mad Max: Fury Road   \n",
       "2  tt2908446   13.112507  110000000   295238201                     Insurgent   \n",
       "3  tt2488496   11.173104  200000000  2068178225  Star Wars: The Force Awakens   \n",
       "4  tt2820852    9.335014  190000000  1506249360                     Furious 7   \n",
       "\n",
       "                                                cast          director  \\\n",
       "0  Chris Pratt|Bryce Dallas Howard|Irrfan Khan|Vi...   Colin Trevorrow   \n",
       "1  Tom Hardy|Charlize Theron|Hugh Keays-Byrne|Nic...     George Miller   \n",
       "2  Shailene Woodley|Theo James|Kate Winslet|Ansel...  Robert Schwentke   \n",
       "3  Harrison Ford|Mark Hamill|Carrie Fisher|Adam D...       J.J. Abrams   \n",
       "4  Vin Diesel|Paul Walker|Jason Statham|Michelle ...         James Wan   \n",
       "\n",
       "   runtime                                     genres  \\\n",
       "0      124  Action|Adventure|Science Fiction|Thriller   \n",
       "1      120  Action|Adventure|Science Fiction|Thriller   \n",
       "2      119         Adventure|Science Fiction|Thriller   \n",
       "3      136   Action|Adventure|Science Fiction|Fantasy   \n",
       "4      137                      Action|Crime|Thriller   \n",
       "\n",
       "                                production_companies release_date  \\\n",
       "0  Universal Studios|Amblin Entertainment|Legenda...       6/9/15   \n",
       "1  Village Roadshow Pictures|Kennedy Miller Produ...      5/13/15   \n",
       "2  Summit Entertainment|Mandeville Films|Red Wago...      3/18/15   \n",
       "3          Lucasfilm|Truenorth Productions|Bad Robot     12/15/15   \n",
       "4  Universal Pictures|Original Film|Media Rights ...       4/1/15   \n",
       "\n",
       "   release_year  \n",
       "0          2015  \n",
       "1          2015  \n",
       "2          2015  \n",
       "3          2015  \n",
       "4          2015  "
      ]
     },
     "execution_count": 3,
     "metadata": {},
     "output_type": "execute_result"
    }
   ],
   "source": [
    "#Drop unnecessary columns \n",
    "df=df.drop(['id','homepage','tagline','keywords','overview','vote_count','vote_average','budget_adj','revenue_adj'],1)\n",
    "#Confirm if drop was successful\n",
    "df.head()"
   ]
  },
  {
   "cell_type": "markdown",
   "metadata": {},
   "source": [
    "#### b. Handling Null Values: "
   ]
  },
  {
   "cell_type": "markdown",
   "metadata": {},
   "source": [
    "Budget, revenue and runtime are numeric values, and they have some rows with 0. We will replace all 0 with NaN and then removing rows that contains NaN."
   ]
  },
  {
   "cell_type": "code",
   "execution_count": 4,
   "metadata": {},
   "outputs": [],
   "source": [
    "columns=['budget', 'revenue', 'runtime']\n",
    "\n",
    "df[columns] = df[columns].replace(0, np.NAN)\n",
    "\n",
    "df.dropna(subset=columns, inplace = True)"
   ]
  },
  {
   "cell_type": "markdown",
   "metadata": {},
   "source": [
    "For the production companies, we will choose only rows that are not null"
   ]
  },
  {
   "cell_type": "code",
   "execution_count": 5,
   "metadata": {},
   "outputs": [],
   "source": [
    "df=df[pd.notnull(df['production_companies'])]"
   ]
  },
  {
   "cell_type": "markdown",
   "metadata": {},
   "source": [
    "If we check the shape again, we will find that the number of rows are decreased since we have deleted null rows"
   ]
  },
  {
   "cell_type": "code",
   "execution_count": 6,
   "metadata": {},
   "outputs": [
    {
     "data": {
      "text/plain": [
       "(3809, 12)"
      ]
     },
     "execution_count": 6,
     "metadata": {},
     "output_type": "execute_result"
    }
   ],
   "source": [
    "df.shape"
   ]
  },
  {
   "cell_type": "markdown",
   "metadata": {},
   "source": [
    "#### c.Dropping Duplicate"
   ]
  },
  {
   "cell_type": "code",
   "execution_count": 7,
   "metadata": {},
   "outputs": [
    {
     "data": {
      "text/plain": [
       "1"
      ]
     },
     "execution_count": 7,
     "metadata": {},
     "output_type": "execute_result"
    }
   ],
   "source": [
    "sum(df.duplicated())"
   ]
  },
  {
   "cell_type": "markdown",
   "metadata": {},
   "source": [
    "There is a duplicated value as we checked above, we will drop this value."
   ]
  },
  {
   "cell_type": "code",
   "execution_count": 8,
   "metadata": {},
   "outputs": [
    {
     "data": {
      "text/plain": [
       "0"
      ]
     },
     "execution_count": 8,
     "metadata": {},
     "output_type": "execute_result"
    }
   ],
   "source": [
    "df.drop_duplicates(inplace=True)\n",
    "#confirm dropping duplicates\n",
    "sum(df.duplicated())"
   ]
  },
  {
   "cell_type": "markdown",
   "metadata": {},
   "source": [
    "<a id='eda'></a>\n",
    "## Exploratory Data Analysis\n",
    "\n",
    "### Research Question 1 (How the budget changes over years)\n",
    "\n",
    "#### 1.1 Single Variable Exploration (Budget):"
   ]
  },
  {
   "cell_type": "code",
   "execution_count": 19,
   "metadata": {},
   "outputs": [
    {
     "data": {
      "text/plain": [
       "<matplotlib.axes._subplots.AxesSubplot at 0x7fd2710af0f0>"
      ]
     },
     "execution_count": 19,
     "metadata": {},
     "output_type": "execute_result"
    },
    {
     "data": {
      "image/png": "[encoded data removed]",
      "text/plain": [
       "<matplotlib.figure.Figure at 0x7fd2710af828>"
      ]
     },
     "metadata": {
      "needs_background": "light"
     },
     "output_type": "display_data"
    }
   ],
   "source": [
    "df.budget.hist()"
   ]
  },
  {
   "cell_type": "markdown",
   "metadata": {},
   "source": [
    "The above histogram shows the distribution of budget, it is right skewed. We will check how the average budget changes over years as below:"
   ]
  },
  {
   "cell_type": "code",
   "execution_count": 20,
   "metadata": {},
   "outputs": [
    {
     "data": {
      "text/plain": [
       "release_year\n",
       "1960    4.161390e+06\n",
       "1961    3.863700e+06\n",
       "1962    5.635714e+06\n",
       "1963    1.018583e+07\n",
       "1964    4.847880e+06\n",
       "1965    1.176000e+07\n",
       "1966    6.453600e+06\n",
       "1967    7.346154e+06\n",
       "1968    5.994444e+06\n",
       "1969    5.711022e+06\n",
       "1970    8.718359e+06\n",
       "1971    3.077077e+06\n",
       "1972    2.958032e+06\n",
       "1973    4.777250e+06\n",
       "1974    5.352692e+06\n",
       "1975    4.122222e+06\n",
       "1976    8.033333e+06\n",
       "1977    7.307895e+06\n",
       "1978    9.774707e+06\n",
       "1979    1.441875e+07\n",
       "1980    1.391522e+07\n",
       "1981    9.725000e+06\n",
       "1982    1.322692e+07\n",
       "1983    1.565248e+07\n",
       "1984    1.364398e+07\n",
       "1985    1.454331e+07\n",
       "1986    1.317234e+07\n",
       "1987    1.323761e+07\n",
       "1988    1.448750e+07\n",
       "1989    1.898018e+07\n",
       "1990    2.300252e+07\n",
       "1991    2.630000e+07\n",
       "1992    2.289293e+07\n",
       "1993    2.223174e+07\n",
       "1994    2.966897e+07\n",
       "1995    3.273949e+07\n",
       "1996    3.531821e+07\n",
       "1997    4.475874e+07\n",
       "1998    4.383900e+07\n",
       "1999    4.239461e+07\n",
       "2000    4.638654e+07\n",
       "2001    4.419770e+07\n",
       "2002    4.284000e+07\n",
       "2003    4.591601e+07\n",
       "2004    4.681161e+07\n",
       "2005    4.273551e+07\n",
       "2006    4.106677e+07\n",
       "2007    4.334422e+07\n",
       "2008    4.364356e+07\n",
       "2009    4.427822e+07\n",
       "2010    4.777479e+07\n",
       "2011    4.303725e+07\n",
       "2012    4.831281e+07\n",
       "2013    4.783756e+07\n",
       "2014    4.481072e+07\n",
       "2015    4.481736e+07\n",
       "Name: budget, dtype: float64"
      ]
     },
     "execution_count": 20,
     "metadata": {},
     "output_type": "execute_result"
    }
   ],
   "source": [
    "budget_over_years = df.groupby('release_year').budget.mean()\n",
    "budget_over_years"
   ]
  },
  {
   "cell_type": "code",
   "execution_count": 21,
   "metadata": {},
   "outputs": [
    {
     "data": {
      "text/plain": [
       "Text(0.5,1,'Budget Over Years')"
      ]
     },
     "execution_count": 21,
     "metadata": {},
     "output_type": "execute_result"
    },
    {
     "data": {
      "image/png": "[encoded data removed]",
      "text/plain": [
       "<matplotlib.figure.Figure at 0x7fd272b9aa58>"
      ]
     },
     "metadata": {
      "needs_background": "light"
     },
     "output_type": "display_data"
    }
   ],
   "source": [
    "budget_over_years.plot()\n",
    "plt.xlabel(\"Years\")\n",
    "plt.ylabel(\"Budget\")\n",
    "plt.title(\"Budget Over Years\")"
   ]
  },
  {
   "cell_type": "markdown",
   "metadata": {},
   "source": [
    "**Observation on Budget**:<br>The average budget of movies increased over years"
   ]
  },
  {
   "cell_type": "markdown",
   "metadata": {},
   "source": [
    "#### 1.2 Multiple Variable Exploration (Budget and Popurality of Production Companies):"
   ]
  },
  {
   "cell_type": "markdown",
   "metadata": {},
   "source": [
    "We will analyze mean popularity and mean budget of the production companies"
   ]
  },
  {
   "cell_type": "code",
   "execution_count": 33,
   "metadata": {},
   "outputs": [
    {
     "data": {
      "text/html": [
       "<div>\n",
       "<style>\n",
       "    .dataframe thead tr:only-child th {\n",
       "        text-align: right;\n",
       "    }\n",
       "\n",
       "    .dataframe thead th {\n",
       "        text-align: left;\n",
       "    }\n",
       "\n",
       "    .dataframe tbody tr th {\n",
       "        vertical-align: top;\n",
       "    }\n",
       "</style>\n",
       "<table border=\"1\" class=\"dataframe\">\n",
       "  <thead>\n",
       "    <tr style=\"text-align: right;\">\n",
       "      <th></th>\n",
       "      <th>budget</th>\n",
       "      <th>popularity</th>\n",
       "    </tr>\n",
       "    <tr>\n",
       "      <th>production_companies</th>\n",
       "      <th></th>\n",
       "      <th></th>\n",
       "    </tr>\n",
       "  </thead>\n",
       "  <tbody>\n",
       "    <tr>\n",
       "      <th>10th Hole Productions|Benaroya Pictures|Four of a Kind Productions</th>\n",
       "      <td>4.500000e+06</td>\n",
       "      <td>0.385851</td>\n",
       "    </tr>\n",
       "    <tr>\n",
       "      <th>120dB Films|Scion Films|Voodoo Production Services|Chydzik Media Group|First Wedding Productions</th>\n",
       "      <td>1.000000e+00</td>\n",
       "      <td>0.520430</td>\n",
       "    </tr>\n",
       "    <tr>\n",
       "      <th>1492 Pictures|Dune Entertainment|Fox 2000 Pictures|Sunswept Entertainment|Dune Entertainment III</th>\n",
       "      <td>9.000000e+07</td>\n",
       "      <td>2.032753</td>\n",
       "    </tr>\n",
       "    <tr>\n",
       "      <th>1492 Pictures|Warner Bros.|Heyday Films</th>\n",
       "      <td>1.250000e+08</td>\n",
       "      <td>8.021423</td>\n",
       "    </tr>\n",
       "    <tr>\n",
       "      <th>1492 Pictures|Warner Bros.|Heyday Films|MIRACLE Productions GmbH &amp; Co. KG</th>\n",
       "      <td>1.000000e+08</td>\n",
       "      <td>6.012584</td>\n",
       "    </tr>\n",
       "    <tr>\n",
       "      <th>1492 Pictures|Warner Bros.|Heyday Films|P of A Productions Limited</th>\n",
       "      <td>1.300000e+08</td>\n",
       "      <td>5.827781</td>\n",
       "    </tr>\n",
       "    <tr>\n",
       "      <th>1818|Lone Wolf McQuade Associates|Topkick Productions</th>\n",
       "      <td>5.000000e+06</td>\n",
       "      <td>0.290596</td>\n",
       "    </tr>\n",
       "    <tr>\n",
       "      <th>20th Century Fox</th>\n",
       "      <td>4.220000e+07</td>\n",
       "      <td>0.692946</td>\n",
       "    </tr>\n",
       "    <tr>\n",
       "      <th>20th Century Fox|1492 Pictures</th>\n",
       "      <td>7.500000e+07</td>\n",
       "      <td>0.263042</td>\n",
       "    </tr>\n",
       "    <tr>\n",
       "      <th>20th Century Fox|Chernin Entertainment|Walden Media</th>\n",
       "      <td>2.500000e+07</td>\n",
       "      <td>0.494391</td>\n",
       "    </tr>\n",
       "    <tr>\n",
       "      <th>20th Century Fox|Davis Entertainment</th>\n",
       "      <td>8.000000e+06</td>\n",
       "      <td>1.651962</td>\n",
       "    </tr>\n",
       "    <tr>\n",
       "      <th>20th Century Fox|Double Feature Films|Appian Way|Stone Village Pictures|New Regency Pictures</th>\n",
       "      <td>3.000000e+07</td>\n",
       "      <td>1.321896</td>\n",
       "    </tr>\n",
       "    <tr>\n",
       "      <th>20th Century Fox|Figment Films</th>\n",
       "      <td>4.000000e+07</td>\n",
       "      <td>0.626782</td>\n",
       "    </tr>\n",
       "    <tr>\n",
       "      <th>20th Century Fox|Gladden Entertainment</th>\n",
       "      <td>6.000000e+06</td>\n",
       "      <td>0.200760</td>\n",
       "    </tr>\n",
       "    <tr>\n",
       "      <th>20th Century Fox|Largo Entertainment|JVC Entertainment Networks</th>\n",
       "      <td>2.300000e+07</td>\n",
       "      <td>0.367997</td>\n",
       "    </tr>\n",
       "    <tr>\n",
       "      <th>20th Century Fox|Regency Enterprises</th>\n",
       "      <td>3.500000e+07</td>\n",
       "      <td>0.832959</td>\n",
       "    </tr>\n",
       "    <tr>\n",
       "      <th>20th Century Fox|Regency Enterprises|Guy Walks into a Bar Productions|Deep River Productions</th>\n",
       "      <td>6.000000e+07</td>\n",
       "      <td>0.498026</td>\n",
       "    </tr>\n",
       "    <tr>\n",
       "      <th>20th Century Fox|Regency Enterprises|New Regency Pictures|Taurus Film|Polar Entertainment Corporation</th>\n",
       "      <td>6.000000e+06</td>\n",
       "      <td>0.231418</td>\n",
       "    </tr>\n",
       "    <tr>\n",
       "      <th>20th Century Fox|Saban Entertainment</th>\n",
       "      <td>1.000000e+07</td>\n",
       "      <td>0.223994</td>\n",
       "    </tr>\n",
       "    <tr>\n",
       "      <th>20th Century Fox|Turner Pictures</th>\n",
       "      <td>2.700000e+07</td>\n",
       "      <td>0.776380</td>\n",
       "    </tr>\n",
       "    <tr>\n",
       "      <th>20th Century Fox|Village Roadshow Pictures|NPV Entertainment|Regency Enterprises|Kopelson Entertainment</th>\n",
       "      <td>5.000000e+07</td>\n",
       "      <td>0.651040</td>\n",
       "    </tr>\n",
       "    <tr>\n",
       "      <th>20th Century Fox|Weed Road Pictures|Dutch Oven|New Regency Productions|Summit Entertainment</th>\n",
       "      <td>1.100000e+08</td>\n",
       "      <td>1.330824</td>\n",
       "    </tr>\n",
       "    <tr>\n",
       "      <th>20th Century Fox|Zucker Brothers Productions</th>\n",
       "      <td>2.000000e+07</td>\n",
       "      <td>0.760076</td>\n",
       "    </tr>\n",
       "    <tr>\n",
       "      <th>21 Laps Entertainment|Andrew Lauren Productions (ALP)|A24</th>\n",
       "      <td>2.500000e+06</td>\n",
       "      <td>1.116296</td>\n",
       "    </tr>\n",
       "    <tr>\n",
       "      <th>26 Films</th>\n",
       "      <td>1.000000e+07</td>\n",
       "      <td>0.241541</td>\n",
       "    </tr>\n",
       "    <tr>\n",
       "      <th>2929 Productions</th>\n",
       "      <td>1.200000e+07</td>\n",
       "      <td>0.455180</td>\n",
       "    </tr>\n",
       "    <tr>\n",
       "      <th>2929 Productions|Dimension Films|Nick Wechsler Productions|Chockstone Pictures</th>\n",
       "      <td>3.200000e+07</td>\n",
       "      <td>1.218657</td>\n",
       "    </tr>\n",
       "    <tr>\n",
       "      <th>2929 Productions|Linson Entertainment|Art Linson Productions|Tribeca Productions</th>\n",
       "      <td>2.500000e+07</td>\n",
       "      <td>0.368391</td>\n",
       "    </tr>\n",
       "    <tr>\n",
       "      <th>2929 Productions|Magnolia Pictures|Extension 765</th>\n",
       "      <td>1.700000e+06</td>\n",
       "      <td>0.272422</td>\n",
       "    </tr>\n",
       "    <tr>\n",
       "      <th>3 Arts Entertainment|The Mark Gordon Company</th>\n",
       "      <td>1.500000e+06</td>\n",
       "      <td>0.536350</td>\n",
       "    </tr>\n",
       "    <tr>\n",
       "      <th>...</th>\n",
       "      <td>...</td>\n",
       "      <td>...</td>\n",
       "    </tr>\n",
       "    <tr>\n",
       "      <th>WingNut Films|TriStar Pictures|Key Creatives|Block / Hanson|Canadian Film or Video Production Tax Credit (CPTC)</th>\n",
       "      <td>3.000000e+07</td>\n",
       "      <td>3.744956</td>\n",
       "    </tr>\n",
       "    <tr>\n",
       "      <th>WingNut Films|Universal Pictures</th>\n",
       "      <td>3.000000e+07</td>\n",
       "      <td>0.923851</td>\n",
       "    </tr>\n",
       "    <tr>\n",
       "      <th>WingNut Films|Universal Pictures|Big Primate Pictures|MFPV Film</th>\n",
       "      <td>2.070000e+08</td>\n",
       "      <td>1.508329</td>\n",
       "    </tr>\n",
       "    <tr>\n",
       "      <th>Wonderland Sound and Vision|CBS Films|Vast Entertainment</th>\n",
       "      <td>8.500000e+06</td>\n",
       "      <td>1.758618</td>\n",
       "    </tr>\n",
       "    <tr>\n",
       "      <th>Woods Entertainment|Dimension Films</th>\n",
       "      <td>1.400000e+07</td>\n",
       "      <td>1.286189</td>\n",
       "    </tr>\n",
       "    <tr>\n",
       "      <th>Working Dog|Village Roadshow Entertainment</th>\n",
       "      <td>7.866750e+05</td>\n",
       "      <td>0.065672</td>\n",
       "    </tr>\n",
       "    <tr>\n",
       "      <th>Working Title Films</th>\n",
       "      <td>1.050000e+07</td>\n",
       "      <td>2.025604</td>\n",
       "    </tr>\n",
       "    <tr>\n",
       "      <th>Working Title Films|Circle Films</th>\n",
       "      <td>9.000000e+06</td>\n",
       "      <td>0.693523</td>\n",
       "    </tr>\n",
       "    <tr>\n",
       "      <th>Working Title Films|Cross Creek Pictures|Anton Capital Entertainment (ACE)</th>\n",
       "      <td>2.500000e+07</td>\n",
       "      <td>2.281350</td>\n",
       "    </tr>\n",
       "    <tr>\n",
       "      <th>Worldview Entertainment</th>\n",
       "      <td>6.666667e+06</td>\n",
       "      <td>0.475977</td>\n",
       "    </tr>\n",
       "    <tr>\n",
       "      <th>Worldview Entertainment|Arcade Pictures</th>\n",
       "      <td>4.000000e+06</td>\n",
       "      <td>0.412492</td>\n",
       "    </tr>\n",
       "    <tr>\n",
       "      <th>Worldview Entertainment|Dragonfly Entertainment|Sobras International Pictures|Top Hat Releasing|BH Tilt</th>\n",
       "      <td>5.000000e+06</td>\n",
       "      <td>0.890965</td>\n",
       "    </tr>\n",
       "    <tr>\n",
       "      <th>Worldview Entertainment|Muskat Filmed Properties|Dreambridge Films|Rough House Pictures</th>\n",
       "      <td>4.000000e+06</td>\n",
       "      <td>0.340308</td>\n",
       "    </tr>\n",
       "    <tr>\n",
       "      <th>Worldview Entertainment|New Regency Pictures|TSG Entertainment|Le Grisbi Productions|M Productions</th>\n",
       "      <td>1.800000e+07</td>\n",
       "      <td>6.907148</td>\n",
       "    </tr>\n",
       "    <tr>\n",
       "      <th>Yari Film Group</th>\n",
       "      <td>3.000000e+06</td>\n",
       "      <td>0.151442</td>\n",
       "    </tr>\n",
       "    <tr>\n",
       "      <th>Yari Film Group|Furst Films</th>\n",
       "      <td>8.000000e+06</td>\n",
       "      <td>0.084240</td>\n",
       "    </tr>\n",
       "    <tr>\n",
       "      <th>Yash Raj Films</th>\n",
       "      <td>1.100000e+07</td>\n",
       "      <td>0.320908</td>\n",
       "    </tr>\n",
       "    <tr>\n",
       "      <th>Zenith Entertainment|Initial Pictures|U.K. Productions Entity</th>\n",
       "      <td>4.000000e+06</td>\n",
       "      <td>0.506902</td>\n",
       "    </tr>\n",
       "    <tr>\n",
       "      <th>Zentropa Entertainments|Danmarks Radio (DR)|Arte|Memfis Film|Isabella Films BV</th>\n",
       "      <td>1.420000e+07</td>\n",
       "      <td>0.449064</td>\n",
       "    </tr>\n",
       "    <tr>\n",
       "      <th>Zentropa Entertainments|Det Danske Filminstitut|Danmarks Radio (DR)|Filmstiftung Nordrhein-Westfalen|TrollhÃ¤ttan Film AB</th>\n",
       "      <td>1.100000e+07</td>\n",
       "      <td>0.953705</td>\n",
       "    </tr>\n",
       "    <tr>\n",
       "      <th>Zininsa Film Production|Intellectual Properties Worldwide</th>\n",
       "      <td>5.000000e+06</td>\n",
       "      <td>0.168979</td>\n",
       "    </tr>\n",
       "    <tr>\n",
       "      <th>Zoetrope Studios</th>\n",
       "      <td>3.150000e+07</td>\n",
       "      <td>2.319520</td>\n",
       "    </tr>\n",
       "    <tr>\n",
       "      <th>Zoetrope Studios|Golan-Globus Productions</th>\n",
       "      <td>3.000000e+06</td>\n",
       "      <td>0.598029</td>\n",
       "    </tr>\n",
       "    <tr>\n",
       "      <th>Zweites Deutsches Fernsehen (ZDF)|Les Films Ariane|RAI Radiotelevisione Italiana|Cristaldifilm</th>\n",
       "      <td>2.000000e+07</td>\n",
       "      <td>0.889306</td>\n",
       "    </tr>\n",
       "    <tr>\n",
       "      <th>abramoff Production|Scorpion Film Production|Abramoff Production</th>\n",
       "      <td>1.600000e+07</td>\n",
       "      <td>0.076438</td>\n",
       "    </tr>\n",
       "    <tr>\n",
       "      <th>area japan</th>\n",
       "      <td>1.500000e+07</td>\n",
       "      <td>0.127310</td>\n",
       "    </tr>\n",
       "    <tr>\n",
       "      <th>chateau productions</th>\n",
       "      <td>1.100000e+01</td>\n",
       "      <td>0.439210</td>\n",
       "    </tr>\n",
       "    <tr>\n",
       "      <th>erbp</th>\n",
       "      <td>1.000000e+05</td>\n",
       "      <td>0.476673</td>\n",
       "    </tr>\n",
       "    <tr>\n",
       "      <th>iDeal Partners Film Fund</th>\n",
       "      <td>4.000000e+06</td>\n",
       "      <td>0.315527</td>\n",
       "    </tr>\n",
       "    <tr>\n",
       "      <th>icon</th>\n",
       "      <td>4.361898e+06</td>\n",
       "      <td>0.276911</td>\n",
       "    </tr>\n",
       "  </tbody>\n",
       "</table>\n",
       "<p>3008 rows × 2 columns</p>\n",
       "</div>"
      ],
      "text/plain": [
       "                                                          budget  popularity\n",
       "production_companies                                                        \n",
       "10th Hole Productions|Benaroya Pictures|Four of...  4.500000e+06    0.385851\n",
       "120dB Films|Scion Films|Voodoo Production Servi...  1.000000e+00    0.520430\n",
       "1492 Pictures|Dune Entertainment|Fox 2000 Pictu...  9.000000e+07    2.032753\n",
       "1492 Pictures|Warner Bros.|Heyday Films             1.250000e+08    8.021423\n",
       "1492 Pictures|Warner Bros.|Heyday Films|MIRACLE...  1.000000e+08    6.012584\n",
       "1492 Pictures|Warner Bros.|Heyday Films|P of A ...  1.300000e+08    5.827781\n",
       "1818|Lone Wolf McQuade Associates|Topkick Produ...  5.000000e+06    0.290596\n",
       "20th Century Fox                                    4.220000e+07    0.692946\n",
       "20th Century Fox|1492 Pictures                      7.500000e+07    0.263042\n",
       "20th Century Fox|Chernin Entertainment|Walden M...  2.500000e+07    0.494391\n",
       "20th Century Fox|Davis Entertainment                8.000000e+06    1.651962\n",
       "20th Century Fox|Double Feature Films|Appian Wa...  3.000000e+07    1.321896\n",
       "20th Century Fox|Figment Films                      4.000000e+07    0.626782\n",
       "20th Century Fox|Gladden Entertainment              6.000000e+06    0.200760\n",
       "20th Century Fox|Largo Entertainment|JVC Entert...  2.300000e+07    0.367997\n",
       "20th Century Fox|Regency Enterprises                3.500000e+07    0.832959\n",
       "20th Century Fox|Regency Enterprises|Guy Walks ...  6.000000e+07    0.498026\n",
       "20th Century Fox|Regency Enterprises|New Regenc...  6.000000e+06    0.231418\n",
       "20th Century Fox|Saban Entertainment                1.000000e+07    0.223994\n",
       "20th Century Fox|Turner Pictures                    2.700000e+07    0.776380\n",
       "20th Century Fox|Village Roadshow Pictures|NPV ...  5.000000e+07    0.651040\n",
       "20th Century Fox|Weed Road Pictures|Dutch Oven|...  1.100000e+08    1.330824\n",
       "20th Century Fox|Zucker Brothers Productions        2.000000e+07    0.760076\n",
       "21 Laps Entertainment|Andrew Lauren Productions...  2.500000e+06    1.116296\n",
       "26 Films                                            1.000000e+07    0.241541\n",
       "2929 Productions                                    1.200000e+07    0.455180\n",
       "2929 Productions|Dimension Films|Nick Wechsler ...  3.200000e+07    1.218657\n",
       "2929 Productions|Linson Entertainment|Art Linso...  2.500000e+07    0.368391\n",
       "2929 Productions|Magnolia Pictures|Extension 765    1.700000e+06    0.272422\n",
       "3 Arts Entertainment|The Mark Gordon Company        1.500000e+06    0.536350\n",
       "...                                                          ...         ...\n",
       "WingNut Films|TriStar Pictures|Key Creatives|Bl...  3.000000e+07    3.744956\n",
       "WingNut Films|Universal Pictures                    3.000000e+07    0.923851\n",
       "WingNut Films|Universal Pictures|Big Primate Pi...  2.070000e+08    1.508329\n",
       "Wonderland Sound and Vision|CBS Films|Vast Ente...  8.500000e+06    1.758618\n",
       "Woods Entertainment|Dimension Films                 1.400000e+07    1.286189\n",
       "Working Dog|Village Roadshow Entertainment          7.866750e+05    0.065672\n",
       "Working Title Films                                 1.050000e+07    2.025604\n",
       "Working Title Films|Circle Films                    9.000000e+06    0.693523\n",
       "Working Title Films|Cross Creek Pictures|Anton ...  2.500000e+07    2.281350\n",
       "Worldview Entertainment                             6.666667e+06    0.475977\n",
       "Worldview Entertainment|Arcade Pictures             4.000000e+06    0.412492\n",
       "Worldview Entertainment|Dragonfly Entertainment...  5.000000e+06    0.890965\n",
       "Worldview Entertainment|Muskat Filmed Propertie...  4.000000e+06    0.340308\n",
       "Worldview Entertainment|New Regency Pictures|TS...  1.800000e+07    6.907148\n",
       "Yari Film Group                                     3.000000e+06    0.151442\n",
       "Yari Film Group|Furst Films                         8.000000e+06    0.084240\n",
       "Yash Raj Films                                      1.100000e+07    0.320908\n",
       "Zenith Entertainment|Initial Pictures|U.K. Prod...  4.000000e+06    0.506902\n",
       "Zentropa Entertainments|Danmarks Radio (DR)|Art...  1.420000e+07    0.449064\n",
       "Zentropa Entertainments|Det Danske Filminstitut...  1.100000e+07    0.953705\n",
       "Zininsa Film Production|Intellectual Properties...  5.000000e+06    0.168979\n",
       "Zoetrope Studios                                    3.150000e+07    2.319520\n",
       "Zoetrope Studios|Golan-Globus Productions           3.000000e+06    0.598029\n",
       "Zweites Deutsches Fernsehen (ZDF)|Les Films Ari...  2.000000e+07    0.889306\n",
       "abramoff Production|Scorpion Film Production|Ab...  1.600000e+07    0.076438\n",
       "area japan                                          1.500000e+07    0.127310\n",
       "chateau productions                                 1.100000e+01    0.439210\n",
       "erbp                                                1.000000e+05    0.476673\n",
       "iDeal Partners Film Fund                            4.000000e+06    0.315527\n",
       "icon                                                4.361898e+06    0.276911\n",
       "\n",
       "[3008 rows x 2 columns]"
      ]
     },
     "execution_count": 33,
     "metadata": {},
     "output_type": "execute_result"
    }
   ],
   "source": [
    "buduget_popularity_df = df.groupby('production_companies')['budget','popularity'].mean()\n",
    "buduget_popularity_df"
   ]
  },
  {
   "cell_type": "code",
   "execution_count": 34,
   "metadata": {},
   "outputs": [
    {
     "data": {
      "text/plain": [
       "<matplotlib.axes._subplots.AxesSubplot at 0x7fd2728b97b8>"
      ]
     },
     "execution_count": 34,
     "metadata": {},
     "output_type": "execute_result"
    },
    {
     "data": {
      "image/png": "[encoded data removed]",
      "text/plain": [
       "<matplotlib.figure.Figure at 0x7fd2728c6e80>"
      ]
     },
     "metadata": {
      "needs_background": "light"
     },
     "output_type": "display_data"
    }
   ],
   "source": [
    "buduget_popularity_df.plot(x='popularity', y='budget', kind='scatter')"
   ]
  },
  {
   "cell_type": "markdown",
   "metadata": {},
   "source": [
    "There is a positive correlation between the budget and popularity of the movies grouped under different production companies (the correlation is not highly significant, there are some values where budget of movie is high but still not popular). "
   ]
  },
  {
   "cell_type": "markdown",
   "metadata": {},
   "source": [
    "### Research Question 2  (How the revenue changes over years)\n",
    "\n",
    "#### 2.1 Single Variable Exploration (Revenue):"
   ]
  },
  {
   "cell_type": "code",
   "execution_count": 28,
   "metadata": {},
   "outputs": [
    {
     "data": {
      "text/plain": [
       "<matplotlib.axes._subplots.AxesSubplot at 0x7fd272aaa978>"
      ]
     },
     "execution_count": 28,
     "metadata": {},
     "output_type": "execute_result"
    },
    {
     "data": {
      "image/png": "[encoded data removed]",
      "text/plain": [
       "<matplotlib.figure.Figure at 0x7fd272a43518>"
      ]
     },
     "metadata": {
      "needs_background": "light"
     },
     "output_type": "display_data"
    }
   ],
   "source": [
    "df.revenue.hist()"
   ]
  },
  {
   "cell_type": "markdown",
   "metadata": {},
   "source": [
    "The above histogram shows the distribution of revenue, it is right skewed. We will check how the average revenue changes over year as below:"
   ]
  },
  {
   "cell_type": "code",
   "execution_count": 29,
   "metadata": {},
   "outputs": [
    {
     "data": {
      "text/plain": [
       "release_year\n",
       "1960    2.580100e+07\n",
       "1961    3.377202e+07\n",
       "1962    2.947569e+07\n",
       "1963    2.942115e+07\n",
       "1964    4.694479e+07\n",
       "1965    9.161637e+07\n",
       "1966    1.694734e+07\n",
       "1967    5.629497e+07\n",
       "1968    2.469131e+07\n",
       "1969    5.742677e+07\n",
       "1970    4.999745e+07\n",
       "1971    2.894513e+07\n",
       "1972    6.011252e+07\n",
       "1973    9.291776e+07\n",
       "1974    5.539746e+07\n",
       "1975    9.392303e+07\n",
       "1976    4.999510e+07\n",
       "1977    9.906097e+07\n",
       "1978    6.889824e+07\n",
       "1979    7.381438e+07\n",
       "1980    5.748329e+07\n",
       "1981    5.373338e+07\n",
       "1982    8.290986e+07\n",
       "1983    6.420325e+07\n",
       "1984    5.729726e+07\n",
       "1985    5.519938e+07\n",
       "1986    4.871795e+07\n",
       "1987    5.994515e+07\n",
       "1988    5.582656e+07\n",
       "1989    8.964569e+07\n",
       "1990    8.937993e+07\n",
       "1991    8.726243e+07\n",
       "1992    9.596928e+07\n",
       "1993    8.578492e+07\n",
       "1994    1.068662e+08\n",
       "1995    1.040435e+08\n",
       "1996    9.180582e+07\n",
       "1997    1.156503e+08\n",
       "1998    1.024211e+08\n",
       "1999    9.785331e+07\n",
       "2000    1.049005e+08\n",
       "2001    1.118475e+08\n",
       "2002    1.141513e+08\n",
       "2003    1.219669e+08\n",
       "2004    1.160043e+08\n",
       "2005    1.011370e+08\n",
       "2006    9.297332e+07\n",
       "2007    1.164684e+08\n",
       "2008    1.162914e+08\n",
       "2009    1.270826e+08\n",
       "2010    1.231703e+08\n",
       "2011    1.194247e+08\n",
       "2012    1.538284e+08\n",
       "2013    1.360306e+08\n",
       "2014    1.458786e+08\n",
       "2015    1.637683e+08\n",
       "Name: revenue, dtype: float64"
      ]
     },
     "execution_count": 29,
     "metadata": {},
     "output_type": "execute_result"
    }
   ],
   "source": [
    "revenue_over_years = df.groupby('release_year').revenue.mean()\n",
    "revenue_over_years"
   ]
  },
  {
   "cell_type": "code",
   "execution_count": 30,
   "metadata": {},
   "outputs": [
    {
     "data": {
      "text/plain": [
       "Text(0.5,1,'Revenue Over Years')"
      ]
     },
     "execution_count": 30,
     "metadata": {},
     "output_type": "execute_result"
    },
    {
     "data": {
      "image/png": "[encoded data removed]",
      "text/plain": [
       "<matplotlib.figure.Figure at 0x7fd2728eac50>"
      ]
     },
     "metadata": {
      "needs_background": "light"
     },
     "output_type": "display_data"
    }
   ],
   "source": [
    "revenue_over_years.plot()\n",
    "plt.xlabel(\"Years\")\n",
    "plt.ylabel(\"Revenue\")\n",
    "plt.title(\"Revenue Over Years\")"
   ]
  },
  {
   "cell_type": "markdown",
   "metadata": {},
   "source": [
    "We can plot the average revenue of the 10 last years for better visualization."
   ]
  },
  {
   "cell_type": "code",
   "execution_count": 31,
   "metadata": {},
   "outputs": [
    {
     "data": {
      "text/plain": [
       "Text(0.5,1,'Revenue Over Years')"
      ]
     },
     "execution_count": 31,
     "metadata": {},
     "output_type": "execute_result"
    },
    {
     "data": {
      "image/png": "[encoded data removed]",
      "text/plain": [
       "<matplotlib.figure.Figure at 0x7fd27288bfd0>"
      ]
     },
     "metadata": {
      "needs_background": "light"
     },
     "output_type": "display_data"
    }
   ],
   "source": [
    "revenue_over_years.tail(10).plot()\n",
    "plt.xlabel(\"Years\")\n",
    "plt.ylabel(\"Revenue\")\n",
    "plt.title(\"Revenue Over Years\")"
   ]
  },
  {
   "cell_type": "markdown",
   "metadata": {},
   "source": [
    "**Observation on Revenue**:<br>The average revenue of movies increased over years but trend dropped approximately at 2011 and 2013"
   ]
  },
  {
   "cell_type": "markdown",
   "metadata": {},
   "source": [
    "#### 2.2 Multiple Variable Exploration (Revenue and Popurality of Production Companies):"
   ]
  },
  {
   "cell_type": "code",
   "execution_count": 35,
   "metadata": {},
   "outputs": [
    {
     "data": {
      "text/html": [
       "<div>\n",
       "<style>\n",
       "    .dataframe thead tr:only-child th {\n",
       "        text-align: right;\n",
       "    }\n",
       "\n",
       "    .dataframe thead th {\n",
       "        text-align: left;\n",
       "    }\n",
       "\n",
       "    .dataframe tbody tr th {\n",
       "        vertical-align: top;\n",
       "    }\n",
       "</style>\n",
       "<table border=\"1\" class=\"dataframe\">\n",
       "  <thead>\n",
       "    <tr style=\"text-align: right;\">\n",
       "      <th></th>\n",
       "      <th>revenue</th>\n",
       "      <th>popularity</th>\n",
       "    </tr>\n",
       "    <tr>\n",
       "      <th>production_companies</th>\n",
       "      <th></th>\n",
       "      <th></th>\n",
       "    </tr>\n",
       "  </thead>\n",
       "  <tbody>\n",
       "    <tr>\n",
       "      <th>10th Hole Productions|Benaroya Pictures|Four of a Kind Productions</th>\n",
       "      <td>1.238200e+05</td>\n",
       "      <td>0.385851</td>\n",
       "    </tr>\n",
       "    <tr>\n",
       "      <th>120dB Films|Scion Films|Voodoo Production Services|Chydzik Media Group|First Wedding Productions</th>\n",
       "      <td>1.378000e+03</td>\n",
       "      <td>0.520430</td>\n",
       "    </tr>\n",
       "    <tr>\n",
       "      <th>1492 Pictures|Dune Entertainment|Fox 2000 Pictures|Sunswept Entertainment|Dune Entertainment III</th>\n",
       "      <td>1.745788e+08</td>\n",
       "      <td>2.032753</td>\n",
       "    </tr>\n",
       "    <tr>\n",
       "      <th>1492 Pictures|Warner Bros.|Heyday Films</th>\n",
       "      <td>9.764756e+08</td>\n",
       "      <td>8.021423</td>\n",
       "    </tr>\n",
       "    <tr>\n",
       "      <th>1492 Pictures|Warner Bros.|Heyday Films|MIRACLE Productions GmbH &amp; Co. KG</th>\n",
       "      <td>8.766885e+08</td>\n",
       "      <td>6.012584</td>\n",
       "    </tr>\n",
       "    <tr>\n",
       "      <th>1492 Pictures|Warner Bros.|Heyday Films|P of A Productions Limited</th>\n",
       "      <td>7.898046e+08</td>\n",
       "      <td>5.827781</td>\n",
       "    </tr>\n",
       "    <tr>\n",
       "      <th>1818|Lone Wolf McQuade Associates|Topkick Productions</th>\n",
       "      <td>1.223263e+07</td>\n",
       "      <td>0.290596</td>\n",
       "    </tr>\n",
       "    <tr>\n",
       "      <th>20th Century Fox</th>\n",
       "      <td>8.819377e+07</td>\n",
       "      <td>0.692946</td>\n",
       "    </tr>\n",
       "    <tr>\n",
       "      <th>20th Century Fox|1492 Pictures</th>\n",
       "      <td>5.409517e+06</td>\n",
       "      <td>0.263042</td>\n",
       "    </tr>\n",
       "    <tr>\n",
       "      <th>20th Century Fox|Chernin Entertainment|Walden Media</th>\n",
       "      <td>1.197722e+08</td>\n",
       "      <td>0.494391</td>\n",
       "    </tr>\n",
       "    <tr>\n",
       "      <th>20th Century Fox|Davis Entertainment</th>\n",
       "      <td>2.243328e+07</td>\n",
       "      <td>1.651962</td>\n",
       "    </tr>\n",
       "    <tr>\n",
       "      <th>20th Century Fox|Double Feature Films|Appian Way|Stone Village Pictures|New Regency Pictures</th>\n",
       "      <td>6.261665e+07</td>\n",
       "      <td>1.321896</td>\n",
       "    </tr>\n",
       "    <tr>\n",
       "      <th>20th Century Fox|Figment Films</th>\n",
       "      <td>1.440569e+08</td>\n",
       "      <td>0.626782</td>\n",
       "    </tr>\n",
       "    <tr>\n",
       "      <th>20th Century Fox|Gladden Entertainment</th>\n",
       "      <td>4.272120e+07</td>\n",
       "      <td>0.200760</td>\n",
       "    </tr>\n",
       "    <tr>\n",
       "      <th>20th Century Fox|Largo Entertainment|JVC Entertainment Networks</th>\n",
       "      <td>5.713872e+07</td>\n",
       "      <td>0.367997</td>\n",
       "    </tr>\n",
       "    <tr>\n",
       "      <th>20th Century Fox|Regency Enterprises</th>\n",
       "      <td>4.444500e+07</td>\n",
       "      <td>0.832959</td>\n",
       "    </tr>\n",
       "    <tr>\n",
       "      <th>20th Century Fox|Regency Enterprises|Guy Walks into a Bar Productions|Deep River Productions</th>\n",
       "      <td>5.065008e+07</td>\n",
       "      <td>0.498026</td>\n",
       "    </tr>\n",
       "    <tr>\n",
       "      <th>20th Century Fox|Regency Enterprises|New Regency Pictures|Taurus Film|Polar Entertainment Corporation</th>\n",
       "      <td>4.398989e+06</td>\n",
       "      <td>0.231418</td>\n",
       "    </tr>\n",
       "    <tr>\n",
       "      <th>20th Century Fox|Saban Entertainment</th>\n",
       "      <td>1.797974e+07</td>\n",
       "      <td>0.223994</td>\n",
       "    </tr>\n",
       "    <tr>\n",
       "      <th>20th Century Fox|Turner Pictures</th>\n",
       "      <td>1.367069e+07</td>\n",
       "      <td>0.776380</td>\n",
       "    </tr>\n",
       "    <tr>\n",
       "      <th>20th Century Fox|Village Roadshow Pictures|NPV Entertainment|Regency Enterprises|Kopelson Entertainment</th>\n",
       "      <td>1.000201e+08</td>\n",
       "      <td>0.651040</td>\n",
       "    </tr>\n",
       "    <tr>\n",
       "      <th>20th Century Fox|Weed Road Pictures|Dutch Oven|New Regency Productions|Summit Entertainment</th>\n",
       "      <td>4.782075e+08</td>\n",
       "      <td>1.330824</td>\n",
       "    </tr>\n",
       "    <tr>\n",
       "      <th>20th Century Fox|Zucker Brothers Productions</th>\n",
       "      <td>5.001251e+07</td>\n",
       "      <td>0.760076</td>\n",
       "    </tr>\n",
       "    <tr>\n",
       "      <th>21 Laps Entertainment|Andrew Lauren Productions (ALP)|A24</th>\n",
       "      <td>6.854611e+06</td>\n",
       "      <td>1.116296</td>\n",
       "    </tr>\n",
       "    <tr>\n",
       "      <th>26 Films</th>\n",
       "      <td>5.508900e+04</td>\n",
       "      <td>0.241541</td>\n",
       "    </tr>\n",
       "    <tr>\n",
       "      <th>2929 Productions</th>\n",
       "      <td>3.148182e+06</td>\n",
       "      <td>0.455180</td>\n",
       "    </tr>\n",
       "    <tr>\n",
       "      <th>2929 Productions|Dimension Films|Nick Wechsler Productions|Chockstone Pictures</th>\n",
       "      <td>2.763530e+07</td>\n",
       "      <td>1.218657</td>\n",
       "    </tr>\n",
       "    <tr>\n",
       "      <th>2929 Productions|Linson Entertainment|Art Linson Productions|Tribeca Productions</th>\n",
       "      <td>6.673422e+06</td>\n",
       "      <td>0.368391</td>\n",
       "    </tr>\n",
       "    <tr>\n",
       "      <th>2929 Productions|Magnolia Pictures|Extension 765</th>\n",
       "      <td>1.007962e+06</td>\n",
       "      <td>0.272422</td>\n",
       "    </tr>\n",
       "    <tr>\n",
       "      <th>3 Arts Entertainment|The Mark Gordon Company</th>\n",
       "      <td>3.566225e+06</td>\n",
       "      <td>0.536350</td>\n",
       "    </tr>\n",
       "    <tr>\n",
       "      <th>...</th>\n",
       "      <td>...</td>\n",
       "      <td>...</td>\n",
       "    </tr>\n",
       "    <tr>\n",
       "      <th>WingNut Films|TriStar Pictures|Key Creatives|Block / Hanson|Canadian Film or Video Production Tax Credit (CPTC)</th>\n",
       "      <td>2.108196e+08</td>\n",
       "      <td>3.744956</td>\n",
       "    </tr>\n",
       "    <tr>\n",
       "      <th>WingNut Films|Universal Pictures</th>\n",
       "      <td>2.935922e+07</td>\n",
       "      <td>0.923851</td>\n",
       "    </tr>\n",
       "    <tr>\n",
       "      <th>WingNut Films|Universal Pictures|Big Primate Pictures|MFPV Film</th>\n",
       "      <td>5.500000e+08</td>\n",
       "      <td>1.508329</td>\n",
       "    </tr>\n",
       "    <tr>\n",
       "      <th>Wonderland Sound and Vision|CBS Films|Vast Entertainment</th>\n",
       "      <td>4.352863e+07</td>\n",
       "      <td>1.758618</td>\n",
       "    </tr>\n",
       "    <tr>\n",
       "      <th>Woods Entertainment|Dimension Films</th>\n",
       "      <td>1.730467e+08</td>\n",
       "      <td>1.286189</td>\n",
       "    </tr>\n",
       "    <tr>\n",
       "      <th>Working Dog|Village Roadshow Entertainment</th>\n",
       "      <td>8.617890e+05</td>\n",
       "      <td>0.065672</td>\n",
       "    </tr>\n",
       "    <tr>\n",
       "      <th>Working Title Films</th>\n",
       "      <td>6.616202e+07</td>\n",
       "      <td>2.025604</td>\n",
       "    </tr>\n",
       "    <tr>\n",
       "      <th>Working Title Films|Circle Films</th>\n",
       "      <td>6.153939e+06</td>\n",
       "      <td>0.693523</td>\n",
       "    </tr>\n",
       "    <tr>\n",
       "      <th>Working Title Films|Cross Creek Pictures|Anton Capital Entertainment (ACE)</th>\n",
       "      <td>4.297299e+07</td>\n",
       "      <td>2.281350</td>\n",
       "    </tr>\n",
       "    <tr>\n",
       "      <th>Worldview Entertainment</th>\n",
       "      <td>6.427467e+04</td>\n",
       "      <td>0.475977</td>\n",
       "    </tr>\n",
       "    <tr>\n",
       "      <th>Worldview Entertainment|Arcade Pictures</th>\n",
       "      <td>9.221000e+03</td>\n",
       "      <td>0.412492</td>\n",
       "    </tr>\n",
       "    <tr>\n",
       "      <th>Worldview Entertainment|Dragonfly Entertainment|Sobras International Pictures|Top Hat Releasing|BH Tilt</th>\n",
       "      <td>6.833445e+06</td>\n",
       "      <td>0.890965</td>\n",
       "    </tr>\n",
       "    <tr>\n",
       "      <th>Worldview Entertainment|Muskat Filmed Properties|Dreambridge Films|Rough House Pictures</th>\n",
       "      <td>2.365467e+06</td>\n",
       "      <td>0.340308</td>\n",
       "    </tr>\n",
       "    <tr>\n",
       "      <th>Worldview Entertainment|New Regency Pictures|TSG Entertainment|Le Grisbi Productions|M Productions</th>\n",
       "      <td>1.032151e+08</td>\n",
       "      <td>6.907148</td>\n",
       "    </tr>\n",
       "    <tr>\n",
       "      <th>Yari Film Group</th>\n",
       "      <td>1.171860e+07</td>\n",
       "      <td>0.151442</td>\n",
       "    </tr>\n",
       "    <tr>\n",
       "      <th>Yari Film Group|Furst Films</th>\n",
       "      <td>3.822670e+05</td>\n",
       "      <td>0.084240</td>\n",
       "    </tr>\n",
       "    <tr>\n",
       "      <th>Yash Raj Films</th>\n",
       "      <td>4.639643e+07</td>\n",
       "      <td>0.320908</td>\n",
       "    </tr>\n",
       "    <tr>\n",
       "      <th>Zenith Entertainment|Initial Pictures|U.K. Productions Entity</th>\n",
       "      <td>2.826523e+06</td>\n",
       "      <td>0.506902</td>\n",
       "    </tr>\n",
       "    <tr>\n",
       "      <th>Zentropa Entertainments|Danmarks Radio (DR)|Arte|Memfis Film|Isabella Films BV</th>\n",
       "      <td>6.749180e+05</td>\n",
       "      <td>0.449064</td>\n",
       "    </tr>\n",
       "    <tr>\n",
       "      <th>Zentropa Entertainments|Det Danske Filminstitut|Danmarks Radio (DR)|Filmstiftung Nordrhein-Westfalen|TrollhÃ¤ttan Film AB</th>\n",
       "      <td>7.918670e+05</td>\n",
       "      <td>0.953705</td>\n",
       "    </tr>\n",
       "    <tr>\n",
       "      <th>Zininsa Film Production|Intellectual Properties Worldwide</th>\n",
       "      <td>4.040588e+06</td>\n",
       "      <td>0.168979</td>\n",
       "    </tr>\n",
       "    <tr>\n",
       "      <th>Zoetrope Studios</th>\n",
       "      <td>8.347151e+07</td>\n",
       "      <td>2.319520</td>\n",
       "    </tr>\n",
       "    <tr>\n",
       "      <th>Zoetrope Studios|Golan-Globus Productions</th>\n",
       "      <td>3.221568e+06</td>\n",
       "      <td>0.598029</td>\n",
       "    </tr>\n",
       "    <tr>\n",
       "      <th>Zweites Deutsches Fernsehen (ZDF)|Les Films Ariane|RAI Radiotelevisione Italiana|Cristaldifilm</th>\n",
       "      <td>7.720000e+07</td>\n",
       "      <td>0.889306</td>\n",
       "    </tr>\n",
       "    <tr>\n",
       "      <th>abramoff Production|Scorpion Film Production|Abramoff Production</th>\n",
       "      <td>4.192440e+06</td>\n",
       "      <td>0.076438</td>\n",
       "    </tr>\n",
       "    <tr>\n",
       "      <th>area japan</th>\n",
       "      <td>3.170000e+05</td>\n",
       "      <td>0.127310</td>\n",
       "    </tr>\n",
       "    <tr>\n",
       "      <th>chateau productions</th>\n",
       "      <td>1.100000e+01</td>\n",
       "      <td>0.439210</td>\n",
       "    </tr>\n",
       "    <tr>\n",
       "      <th>erbp</th>\n",
       "      <td>4.440980e+05</td>\n",
       "      <td>0.476673</td>\n",
       "    </tr>\n",
       "    <tr>\n",
       "      <th>iDeal Partners Film Fund</th>\n",
       "      <td>5.512500e+04</td>\n",
       "      <td>0.315527</td>\n",
       "    </tr>\n",
       "    <tr>\n",
       "      <th>icon</th>\n",
       "      <td>3.031801e+06</td>\n",
       "      <td>0.276911</td>\n",
       "    </tr>\n",
       "  </tbody>\n",
       "</table>\n",
       "<p>3008 rows × 2 columns</p>\n",
       "</div>"
      ],
      "text/plain": [
       "                                                         revenue  popularity\n",
       "production_companies                                                        \n",
       "10th Hole Productions|Benaroya Pictures|Four of...  1.238200e+05    0.385851\n",
       "120dB Films|Scion Films|Voodoo Production Servi...  1.378000e+03    0.520430\n",
       "1492 Pictures|Dune Entertainment|Fox 2000 Pictu...  1.745788e+08    2.032753\n",
       "1492 Pictures|Warner Bros.|Heyday Films             9.764756e+08    8.021423\n",
       "1492 Pictures|Warner Bros.|Heyday Films|MIRACLE...  8.766885e+08    6.012584\n",
       "1492 Pictures|Warner Bros.|Heyday Films|P of A ...  7.898046e+08    5.827781\n",
       "1818|Lone Wolf McQuade Associates|Topkick Produ...  1.223263e+07    0.290596\n",
       "20th Century Fox                                    8.819377e+07    0.692946\n",
       "20th Century Fox|1492 Pictures                      5.409517e+06    0.263042\n",
       "20th Century Fox|Chernin Entertainment|Walden M...  1.197722e+08    0.494391\n",
       "20th Century Fox|Davis Entertainment                2.243328e+07    1.651962\n",
       "20th Century Fox|Double Feature Films|Appian Wa...  6.261665e+07    1.321896\n",
       "20th Century Fox|Figment Films                      1.440569e+08    0.626782\n",
       "20th Century Fox|Gladden Entertainment              4.272120e+07    0.200760\n",
       "20th Century Fox|Largo Entertainment|JVC Entert...  5.713872e+07    0.367997\n",
       "20th Century Fox|Regency Enterprises                4.444500e+07    0.832959\n",
       "20th Century Fox|Regency Enterprises|Guy Walks ...  5.065008e+07    0.498026\n",
       "20th Century Fox|Regency Enterprises|New Regenc...  4.398989e+06    0.231418\n",
       "20th Century Fox|Saban Entertainment                1.797974e+07    0.223994\n",
       "20th Century Fox|Turner Pictures                    1.367069e+07    0.776380\n",
       "20th Century Fox|Village Roadshow Pictures|NPV ...  1.000201e+08    0.651040\n",
       "20th Century Fox|Weed Road Pictures|Dutch Oven|...  4.782075e+08    1.330824\n",
       "20th Century Fox|Zucker Brothers Productions        5.001251e+07    0.760076\n",
       "21 Laps Entertainment|Andrew Lauren Productions...  6.854611e+06    1.116296\n",
       "26 Films                                            5.508900e+04    0.241541\n",
       "2929 Productions                                    3.148182e+06    0.455180\n",
       "2929 Productions|Dimension Films|Nick Wechsler ...  2.763530e+07    1.218657\n",
       "2929 Productions|Linson Entertainment|Art Linso...  6.673422e+06    0.368391\n",
       "2929 Productions|Magnolia Pictures|Extension 765    1.007962e+06    0.272422\n",
       "3 Arts Entertainment|The Mark Gordon Company        3.566225e+06    0.536350\n",
       "...                                                          ...         ...\n",
       "WingNut Films|TriStar Pictures|Key Creatives|Bl...  2.108196e+08    3.744956\n",
       "WingNut Films|Universal Pictures                    2.935922e+07    0.923851\n",
       "WingNut Films|Universal Pictures|Big Primate Pi...  5.500000e+08    1.508329\n",
       "Wonderland Sound and Vision|CBS Films|Vast Ente...  4.352863e+07    1.758618\n",
       "Woods Entertainment|Dimension Films                 1.730467e+08    1.286189\n",
       "Working Dog|Village Roadshow Entertainment          8.617890e+05    0.065672\n",
       "Working Title Films                                 6.616202e+07    2.025604\n",
       "Working Title Films|Circle Films                    6.153939e+06    0.693523\n",
       "Working Title Films|Cross Creek Pictures|Anton ...  4.297299e+07    2.281350\n",
       "Worldview Entertainment                             6.427467e+04    0.475977\n",
       "Worldview Entertainment|Arcade Pictures             9.221000e+03    0.412492\n",
       "Worldview Entertainment|Dragonfly Entertainment...  6.833445e+06    0.890965\n",
       "Worldview Entertainment|Muskat Filmed Propertie...  2.365467e+06    0.340308\n",
       "Worldview Entertainment|New Regency Pictures|TS...  1.032151e+08    6.907148\n",
       "Yari Film Group                                     1.171860e+07    0.151442\n",
       "Yari Film Group|Furst Films                         3.822670e+05    0.084240\n",
       "Yash Raj Films                                      4.639643e+07    0.320908\n",
       "Zenith Entertainment|Initial Pictures|U.K. Prod...  2.826523e+06    0.506902\n",
       "Zentropa Entertainments|Danmarks Radio (DR)|Art...  6.749180e+05    0.449064\n",
       "Zentropa Entertainments|Det Danske Filminstitut...  7.918670e+05    0.953705\n",
       "Zininsa Film Production|Intellectual Properties...  4.040588e+06    0.168979\n",
       "Zoetrope Studios                                    8.347151e+07    2.319520\n",
       "Zoetrope Studios|Golan-Globus Productions           3.221568e+06    0.598029\n",
       "Zweites Deutsches Fernsehen (ZDF)|Les Films Ari...  7.720000e+07    0.889306\n",
       "abramoff Production|Scorpion Film Production|Ab...  4.192440e+06    0.076438\n",
       "area japan                                          3.170000e+05    0.127310\n",
       "chateau productions                                 1.100000e+01    0.439210\n",
       "erbp                                                4.440980e+05    0.476673\n",
       "iDeal Partners Film Fund                            5.512500e+04    0.315527\n",
       "icon                                                3.031801e+06    0.276911\n",
       "\n",
       "[3008 rows x 2 columns]"
      ]
     },
     "execution_count": 35,
     "metadata": {},
     "output_type": "execute_result"
    }
   ],
   "source": [
    "revenue_popularity_df = df.groupby('production_companies')['revenue','popularity'].mean()\n",
    "revenue_popularity_df"
   ]
  },
  {
   "cell_type": "code",
   "execution_count": 36,
   "metadata": {},
   "outputs": [
    {
     "data": {
      "text/plain": [
       "<matplotlib.axes._subplots.AxesSubplot at 0x7fd27276e978>"
      ]
     },
     "execution_count": 36,
     "metadata": {},
     "output_type": "execute_result"
    },
    {
     "data": {
      "image/png": "[encoded data removed]",
      "text/plain": [
       "<matplotlib.figure.Figure at 0x7fd2727bb6d8>"
      ]
     },
     "metadata": {
      "needs_background": "light"
     },
     "output_type": "display_data"
    }
   ],
   "source": [
    "revenue_popularity_df.plot(x='popularity', y='revenue', kind='scatter')"
   ]
  },
  {
   "cell_type": "markdown",
   "metadata": {},
   "source": [
    "As shown above, there is a positive correlation of popularity with revenue but not very significant."
   ]
  },
  {
   "cell_type": "markdown",
   "metadata": {},
   "source": [
    "### Research Question 3  (What is the average runtime of movies)"
   ]
  },
  {
   "cell_type": "code",
   "execution_count": 10,
   "metadata": {},
   "outputs": [
    {
     "name": "stdout",
     "output_type": "stream",
     "text": [
      "Average runtime of movies = 109.36 minutes\n"
     ]
    }
   ],
   "source": [
    "average_runtime = df['runtime'].mean()\n",
    "print (\"Average runtime of movies =\",round(average_runtime,2),'minutes')"
   ]
  },
  {
   "cell_type": "markdown",
   "metadata": {},
   "source": [
    "#### 3.1 Single Variable Exploration (Runtime):"
   ]
  },
  {
   "cell_type": "code",
   "execution_count": 15,
   "metadata": {},
   "outputs": [
    {
     "data": {
      "image/png": "[encoded data removed]",
      "text/plain": [
       "<matplotlib.figure.Figure at 0x7f3d393e1898>"
      ]
     },
     "metadata": {
      "needs_background": "light"
     },
     "output_type": "display_data"
    }
   ],
   "source": [
    "plt.hist(df['runtime'], rwidth = 0.9, bins =25)\n",
    "\n",
    "plt.xlabel('Runtime of the Movies')\n",
    "\n",
    "plt.ylabel('Number of Movies')\n",
    "\n",
    "plt.title('Runtime of all the movies')\n",
    "\n",
    "plt.show()"
   ]
  },
  {
   "cell_type": "markdown",
   "metadata": {},
   "source": [
    "As shown in the above histogram, most of the movies have a runtime between 80 to 120 minutes"
   ]
  },
  {
   "cell_type": "code",
   "execution_count": 16,
   "metadata": {},
   "outputs": [
    {
     "data": {
      "text/plain": [
       "count    3808.000000\n",
       "mean      109.362395\n",
       "std        19.855757\n",
       "min        15.000000\n",
       "25%        96.000000\n",
       "50%       106.000000\n",
       "75%       119.000000\n",
       "max       338.000000\n",
       "Name: runtime, dtype: float64"
      ]
     },
     "execution_count": 16,
     "metadata": {},
     "output_type": "execute_result"
    }
   ],
   "source": [
    "df.runtime.describe()"
   ]
  },
  {
   "cell_type": "markdown",
   "metadata": {},
   "source": [
    "**Observation on Runtime**:<br> \n",
    "25% of movies have runtime less than 96 minutes <br> \n",
    "50% of movies have runtime less than 106 minutes <br>\n",
    "75% of movies have runtime less than 119 minutes"
   ]
  },
  {
   "cell_type": "markdown",
   "metadata": {},
   "source": [
    "#### 3.2 Multiple Variable Exploration (10 release years with largest average runtime):"
   ]
  },
  {
   "cell_type": "markdown",
   "metadata": {},
   "source": [
    "We will aggregate the movie runtimes and take the mean for each release year "
   ]
  },
  {
   "cell_type": "code",
   "execution_count": 28,
   "metadata": {},
   "outputs": [
    {
     "data": {
      "text/plain": [
       "release_year\n",
       "1960    130.000000\n",
       "1961    132.500000\n",
       "1962    141.285714\n",
       "1963    153.500000\n",
       "1964    122.428571\n",
       "1965    167.600000\n",
       "1966    132.200000\n",
       "1967    118.384615\n",
       "1968    130.777778\n",
       "1969    127.500000\n",
       "1970    121.454545\n",
       "1971    112.615385\n",
       "1972    113.000000\n",
       "1973    111.916667\n",
       "1974    122.000000\n",
       "1975    119.333333\n",
       "1976    118.333333\n",
       "1977    108.789474\n",
       "1978    122.882353\n",
       "1979    115.437500\n",
       "1980    113.304348\n",
       "1981    105.133333\n",
       "1982    112.653846\n",
       "1983    107.677419\n",
       "1984    108.619048\n",
       "1985    104.658537\n",
       "1986    105.127660\n",
       "1987    103.304348\n",
       "1988    104.642857\n",
       "1989    106.705882\n",
       "1990    108.923077\n",
       "1991    109.720000\n",
       "1992    112.830189\n",
       "1993    111.236111\n",
       "1994    109.770492\n",
       "1995    112.341772\n",
       "1996    110.035714\n",
       "1997    114.722222\n",
       "1998    111.355556\n",
       "1999    109.043103\n",
       "2000    109.432692\n",
       "2001    109.483051\n",
       "2002    106.960317\n",
       "2003    107.966942\n",
       "2004    107.105634\n",
       "2005    109.886792\n",
       "2006    108.267857\n",
       "2007    107.750000\n",
       "2008    108.209877\n",
       "2009    107.264706\n",
       "2010    106.734463\n",
       "2011    106.581633\n",
       "2012    107.324841\n",
       "2013    109.245810\n",
       "2014    109.296970\n",
       "2015    110.868750\n",
       "Name: runtime, dtype: float64"
      ]
     },
     "execution_count": 28,
     "metadata": {},
     "output_type": "execute_result"
    }
   ],
   "source": [
    "runtime_df = df.groupby('release_year')['runtime'].mean()\n",
    "runtime_df"
   ]
  },
  {
   "cell_type": "code",
   "execution_count": 29,
   "metadata": {},
   "outputs": [
    {
     "data": {
      "text/plain": [
       "Text(0.5,1,'Average Runtime Over Years')"
      ]
     },
     "execution_count": 29,
     "metadata": {},
     "output_type": "execute_result"
    },
    {
     "data": {
      "image/png": "[encoded data removed]",
      "text/plain": [
       "<matplotlib.figure.Figure at 0x7f3d3a9d1898>"
      ]
     },
     "metadata": {
      "needs_background": "light"
     },
     "output_type": "display_data"
    }
   ],
   "source": [
    "runtime_df.plot()\n",
    "plt.xlabel(\"Years\")\n",
    "plt.ylabel(\"Runtime\")\n",
    "plt.title(\"Average Runtime Over Years\")"
   ]
  },
  {
   "cell_type": "markdown",
   "metadata": {},
   "source": [
    "The average runtime is decreasing over years. Now, we will see the 10 years with largest runtime "
   ]
  },
  {
   "cell_type": "code",
   "execution_count": 30,
   "metadata": {},
   "outputs": [
    {
     "data": {
      "text/plain": [
       "release_year\n",
       "1965    167.600000\n",
       "1963    153.500000\n",
       "1962    141.285714\n",
       "1961    132.500000\n",
       "1966    132.200000\n",
       "1968    130.777778\n",
       "1960    130.000000\n",
       "1969    127.500000\n",
       "1978    122.882353\n",
       "1964    122.428571\n",
       "Name: runtime, dtype: float64"
      ]
     },
     "execution_count": 30,
     "metadata": {},
     "output_type": "execute_result"
    }
   ],
   "source": [
    "runtime_df.nlargest(10)"
   ]
  },
  {
   "cell_type": "markdown",
   "metadata": {},
   "source": [
    "It seems that decades of 1960 have the longest runtime of movies."
   ]
  },
  {
   "cell_type": "markdown",
   "metadata": {},
   "source": [
    "<a id='conclusions'></a>\n",
    "## Conclusions\n",
    "\n",
    "- The budget and revenue of movies are increasing over years <br>\n",
    "- The analysis of relation between (budget and popularity),(revenue and popularity) were made by grouping the movies under production companies <br>\n",
    "- Both of budget and revenue have a relation with popularity (but not very significant) <br>\n",
    "- Most of the movies are timed between 80 minutes to 120 minutes. \n",
    "\n",
    "## Limitations\n",
    "\n",
    "- We analyze budget, revenue and revenue columns were rows not zeros and this might have affected  our analysis. <br> \n",
    "- Applying descriptive statistics to draw a conclusion isn't enough, we need to apply inferential statistics in order to have a more meaningful insights\n",
    "\n",
    "## Resources:\n",
    "\n",
    "- Replace 0 with NAN: https://chrisalbon.com/python/data_wrangling/pandas_replace_values/\n",
    "- Pandas documentation\n"
   ]
  },
  {
   "cell_type": "code",
   "execution_count": 35,
   "metadata": {},
   "outputs": [
    {
     "data": {
      "text/plain": [
       "0"
      ]
     },
     "execution_count": 35,
     "metadata": {},
     "output_type": "execute_result"
    }
   ],
   "source": [
    "from subprocess import call\n",
    "call(['python', '-m', 'nbconvert', 'Investigate_a_Dataset.ipynb'])"
   ]
  }
 ],
 "metadata": {
  "kernelspec": {
   "display_name": "Python 3",
   "language": "python",
   "name": "python3"
  },
  "language_info": {
   "codemirror_mode": {
    "name": "ipython",
    "version": 3
   },
   "file_extension": ".py",
   "mimetype": "text/x-python",
   "name": "python",
   "nbconvert_exporter": "python",
   "pygments_lexer": "ipython3",
   "version": "3.6.3"
  }
 },
 "nbformat": 4,
 "nbformat_minor": 2
}
