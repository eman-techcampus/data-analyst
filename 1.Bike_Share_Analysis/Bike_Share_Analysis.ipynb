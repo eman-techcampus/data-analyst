{
 "cells": [
  {
   "cell_type": "markdown",
   "metadata": {},
   "source": [
    "# 2016 US Bike Share Activity Snapshot\n",
    "\n",
    "## Table of Contents\n",
    "- [Introduction](#intro)\n",
    "- [Posing Questions](#pose_questions)\n",
    "- [Data Collection and Wrangling](#wrangling)\n",
    "  - [Condensing the Trip Data](#condensing)\n",
    "- [Exploratory Data Analysis](#eda)\n",
    "  - [Statistics](#statistics)\n",
    "  - [Visualizations](#visualizations)\n",
    "- [Performing Your Own Analysis](#eda_continued)\n",
    "- [Conclusions](#conclusions)\n",
    "\n",
    "<a id='intro'></a>\n",
    "## Introduction\n",
    "\n",
    "Over the past decade, bicycle-sharing systems have been growing in number and popularity in cities across the world. Bicycle-sharing systems allow users to rent bicycles for short trips, typically 30 minutes or less. Thanks to the rise in information technologies, it is easy for a user of the system to access a dock within the system to unlock or return bicycles. These technologies also provide a wealth of data that can be used to explore how these bike-sharing systems are used.\n",
    "\n",
    "In this project, you will perform an exploratory analysis on data provided by [Motivate](https://www.motivateco.com/), a bike-share system provider for many major cities in the United States. You will compare the system usage between three large cities: New York City, Chicago, and Washington, DC. You will also see if there are any differences within each system for those users that are registered, regular users and those users that are short-term, casual users."
   ]
  },
  {
   "cell_type": "markdown",
   "metadata": {},
   "source": [
    "<a id='pose_questions'></a>\n",
    "## Posing Questions\n",
    "\n",
    "Before looking at the bike sharing data, you should start by asking questions you might want to understand about the bike share data. Consider, for example, if you were working for Motivate. What kinds of information would you want to know about in order to make smarter business decisions? If you were a user of the bike-share service, what factors might influence how you would want to use the service?\n",
    "\n",
    "**Question 1**: Write at least two questions related to bike sharing that you think could be answered by data.\n",
    "\n",
    "**Answer**: \n",
    "\n",
    "> •\tWhich month has the highest ridership? \n",
    "<br>\n",
    "  •\tHow the trips differ at weekdays and weekends between different user types?\n"
   ]
  },
  {
   "cell_type": "markdown",
   "metadata": {},
   "source": [
    "<a id='wrangling'></a>\n",
    "## Data Collection and Wrangling\n",
    "\n",
    "Now it's time to collect and explore our data. In this project, we will focus on the record of individual trips taken in 2016 from our selected cities: New York City, Chicago, and Washington, DC. Each of these cities has a page where we can freely download the trip data.:\n",
    "\n",
    "- New York City (Citi Bike): [Link](https://www.citibikenyc.com/system-data)\n",
    "- Chicago (Divvy): [Link](https://www.divvybikes.com/system-data)\n",
    "- Washington, DC (Capital Bikeshare): [Link](https://www.capitalbikeshare.com/system-data)\n",
    "\n",
    "If you visit these pages, you will notice that each city has a different way of delivering its data. Chicago updates with new data twice a year, Washington DC is quarterly, and New York City is monthly. **However, you do not need to download the data yourself.** The data has already been collected for you in the `/data/` folder of the project files. While the original data for 2016 is spread among multiple files for each city, the files in the `/data/` folder collect all of the trip data for the year into one file per city. Some data wrangling of inconsistencies in timestamp format within each city has already been performed for you. In addition, a random 2% sample of the original data is taken to make the exploration more manageable. \n",
    "\n",
    "**Question 2**: However, there is still a lot of data for us to investigate, so it's a good idea to start off by looking at one entry from each of the cities we're going to analyze. Run the first code cell below to load some packages and functions that you'll be using in your analysis. Then, complete the second code cell to print out the first trip recorded from each of the cities (the second line of each data file)."
   ]
  },
  {
   "cell_type": "code",
   "execution_count": 1,
   "metadata": {},
   "outputs": [],
   "source": [
    "## import all necessary packages and functions.\n",
    "import csv # read and write csv files\n",
    "from datetime import datetime # operations to parse dates\n",
    "from pprint import pprint # use to print data structures like dictionaries in\n",
    "                          # a nicer way than the base print function."
   ]
  },
  {
   "cell_type": "code",
   "execution_count": 2,
   "metadata": {},
   "outputs": [
    {
     "name": "stdout",
     "output_type": "stream",
     "text": [
      "\n",
      "City: NYC\n",
      "OrderedDict([('tripduration', '839'),\n",
      "             ('starttime', '1/1/2016 00:09:55'),\n",
      "             ('stoptime', '1/1/2016 00:23:54'),\n",
      "             ('start station id', '532'),\n",
      "             ('start station name', 'S 5 Pl & S 4 St'),\n",
      "             ('start station latitude', '40.710451'),\n",
      "             ('start station longitude', '-73.960876'),\n",
      "             ('end station id', '401'),\n",
      "             ('end station name', 'Allen St & Rivington St'),\n",
      "             ('end station latitude', '40.72019576'),\n",
      "             ('end station longitude', '-73.98997825'),\n",
      "             ('bikeid', '17109'),\n",
      "             ('usertype', 'Customer'),\n",
      "             ('birth year', ''),\n",
      "             ('gender', '0')])\n",
      "\n",
      "City: Chicago\n",
      "OrderedDict([('trip_id', '9080545'),\n",
      "             ('starttime', '3/31/2016 23:30'),\n",
      "             ('stoptime', '3/31/2016 23:46'),\n",
      "             ('bikeid', '2295'),\n",
      "             ('tripduration', '926'),\n",
      "             ('from_station_id', '156'),\n",
      "             ('from_station_name', 'Clark St & Wellington Ave'),\n",
      "             ('to_station_id', '166'),\n",
      "             ('to_station_name', 'Ashland Ave & Wrightwood Ave'),\n",
      "             ('usertype', 'Subscriber'),\n",
      "             ('gender', 'Male'),\n",
      "             ('birthyear', '1990')])\n",
      "\n",
      "City: Washington\n",
      "OrderedDict([('Duration (ms)', '427387'),\n",
      "             ('Start date', '3/31/2016 22:57'),\n",
      "             ('End date', '3/31/2016 23:04'),\n",
      "             ('Start station number', '31602'),\n",
      "             ('Start station', 'Park Rd & Holmead Pl NW'),\n",
      "             ('End station number', '31207'),\n",
      "             ('End station', 'Georgia Ave and Fairmont St NW'),\n",
      "             ('Bike number', 'W20842'),\n",
      "             ('Member Type', 'Registered')])\n"
     ]
    }
   ],
   "source": [
    "def print_first_point(filename):\n",
    "    \"\"\"\n",
    "    This function prints and returns the first data point (second row) from\n",
    "    a csv file that includes a header row.\n",
    "    \"\"\"\n",
    "    # print city name for reference\n",
    "    city = filename.split('-')[0].split('/')[-1]\n",
    "    print('\\nCity: {}'.format(city))\n",
    "    \n",
    "    with open(filename, 'r') as f_in:\n",
    "        ## TODO: Use the csv library to set up a DictReader object. ##\n",
    "        ## see https://docs.python.org/3/library/csv.html           ##\n",
    "        trip_reader = csv.DictReader(f_in)\n",
    "        \n",
    "        ## TODO: Use a function on the DictReader object to read the     ##\n",
    "        ## first trip from the data file and store it in a variable.     ##\n",
    "        ## see https://docs.python.org/3/library/csv.html#reader-objects ##\n",
    "        first_trip = next(trip_reader)\n",
    "        \n",
    "        ## TODO: Use the pprint library to print the first trip. ##\n",
    "        ## see https://docs.python.org/3/library/pprint.html     ##\n",
    "        pprint(first_trip)\n",
    "        \n",
    "    # output city name and first trip for later testing\n",
    "    return (city, first_trip)\n",
    "\n",
    "# list of files for each city\n",
    "data_files = ['./data/NYC-CitiBike-2016.csv',\n",
    "              './data/Chicago-Divvy-2016.csv',\n",
    "              './data/Washington-CapitalBikeshare-2016.csv',]\n",
    "\n",
    "# print the first trip from each file, store in dictionary\n",
    "example_trips = {}\n",
    "for data_file in data_files:\n",
    "    city, first_trip = print_first_point(data_file)\n",
    "    example_trips[city] = first_trip"
   ]
  },
  {
   "cell_type": "markdown",
   "metadata": {},
   "source": [
    "If everything has been filled out correctly, you should see below the printout of each city name (which has been parsed from the data file name) that the first trip has been parsed in the form of a dictionary. When you set up a `DictReader` object, the first row of the data file is normally interpreted as column names. Every other row in the data file will use those column names as keys, as a dictionary is generated for each row.\n",
    "\n",
    "This will be useful since we can refer to quantities by an easily-understandable label instead of just a numeric index. For example, if we have a trip stored in the variable `row`, then we would rather get the trip duration from `row['duration']` instead of `row[0]`.\n",
    "\n",
    "<a id='condensing'></a>\n",
    "### Condensing the Trip Data\n",
    "\n",
    "It should also be observable from the above printout that each city provides different information. Even where the information is the same, the column names and formats are sometimes different. To make things as simple as possible when we get to the actual exploration, we should trim and clean the data. Cleaning the data makes sure that the data formats across the cities are consistent, while trimming focuses only on the parts of the data we are most interested in to make the exploration easier to work with.\n",
    "\n",
    "You will generate new data files with five values of interest for each trip: trip duration, starting month, starting hour, day of the week, and user type. Each of these may require additional wrangling depending on the city:\n",
    "\n",
    "- **Duration**: This has been given to us in seconds (New York, Chicago) or milliseconds (Washington). A more natural unit of analysis will be if all the trip durations are given in terms of minutes.\n",
    "- **Month**, **Hour**, **Day of Week**: Ridership volume is likely to change based on the season, time of day, and whether it is a weekday or weekend. Use the start time of the trip to obtain these values. The New York City data includes the seconds in their timestamps, while Washington and Chicago do not. The [`datetime`](https://docs.python.org/3/library/datetime.html) package will be very useful here to make the needed conversions.\n",
    "- **User Type**: It is possible that users who are subscribed to a bike-share system will have different patterns of use compared to users who only have temporary passes. Washington divides its users into two types: 'Registered' for users with annual, monthly, and other longer-term subscriptions, and 'Casual', for users with 24-hour, 3-day, and other short-term passes. The New York and Chicago data uses 'Subscriber' and 'Customer' for these groups, respectively. For consistency, you will convert the Washington labels to match the other two.\n",
    "\n",
    "\n",
    "**Question 3a**: Complete the helper functions in the code cells below to address each of the cleaning tasks described above."
   ]
  },
  {
   "cell_type": "code",
   "execution_count": 3,
   "metadata": {},
   "outputs": [],
   "source": [
    "def duration_in_mins(datum, city):\n",
    "    \"\"\"\n",
    "    Takes as input a dictionary containing info about a single trip (datum) and\n",
    "    its origin city (city) and returns the trip duration in units of minutes.\n",
    "    \n",
    "    Remember that Washington is in terms of milliseconds while Chicago and NYC\n",
    "    are in terms of seconds. \n",
    "    \n",
    "    HINT: The csv module reads in all of the data as strings, including numeric\n",
    "    values. You will need a function to convert the strings into an appropriate\n",
    "    numeric type when making your transformations.\n",
    "    see https://docs.python.org/3/library/functions.html\n",
    "    \"\"\"\n",
    "    \n",
    "    # YOUR CODE HERE\n",
    "    if city=='Washington':\n",
    "        duration= int(datum['Duration (ms)'])/60000\n",
    "    elif city=='Chicago' or city=='NYC':\n",
    "        duration= int(datum['tripduration'])/60\n",
    "    return duration\n",
    "\n",
    "\n",
    "# Some tests to check that your code works. There should be no output if all of\n",
    "# the assertions pass. The `example_trips` dictionary was obtained from when\n",
    "# you printed the first trip from each of the original data files.\n",
    "tests = {'NYC': 13.9833,\n",
    "         'Chicago': 15.4333,\n",
    "         'Washington': 7.1231}\n",
    "\n",
    "for city in tests:\n",
    "    assert abs(duration_in_mins(example_trips[city], city) - tests[city]) < .001"
   ]
  },
  {
   "cell_type": "code",
   "execution_count": 4,
   "metadata": {},
   "outputs": [],
   "source": [
    "def time_of_trip(datum, city):\n",
    "    \"\"\"\n",
    "    Takes as input a dictionary containing info about a single trip (datum) and\n",
    "    its origin city (city) and returns the month, hour, and day of the week in\n",
    "    which the trip was made.\n",
    "    \n",
    "    Remember that NYC includes seconds, while Washington and Chicago do not.\n",
    "    \n",
    "    HINT: You should use the datetime module to parse the original date\n",
    "    strings into a format that is useful for extracting the desired information.\n",
    "    see https://docs.python.org/3/library/datetime.html#strftime-and-strptime-behavior\n",
    "    \"\"\"\n",
    "    \n",
    "    # YOUR CODE HERE\n",
    "    if city=='NYC':\n",
    "        date_time=datetime.strptime(datum['starttime'], '%m/%d/%Y %H:%M:%S')\n",
    "\n",
    "    elif city=='Chicago':\n",
    "        date_time=datetime.strptime(datum['starttime'], '%m/%d/%Y %H:%M')\n",
    "\n",
    "    elif city=='Washington':\n",
    "        date_time=datetime.strptime(datum['Start date'], '%m/%d/%Y %H:%M')\n",
    "    \n",
    "    month=date_time.date().month\n",
    "    hour=date_time.time().hour\n",
    "    day_of_week=date_time.date().strftime('%A') #%A for weekday name\n",
    "    \n",
    "    return (month, hour, day_of_week)\n",
    "\n",
    "# Some tests to check that your code works. There should be no output if all of\n",
    "# the assertions pass. The `example_trips` dictionary was obtained from when\n",
    "# you printed the first trip from each of the original data files.\n",
    "tests = {'NYC': (1, 0, 'Friday'),\n",
    "         'Chicago': (3, 23, 'Thursday'),\n",
    "         'Washington': (3, 22, 'Thursday')}\n",
    "\n",
    "for city in tests:\n",
    "    assert time_of_trip(example_trips[city], city) == tests[city]"
   ]
  },
  {
   "cell_type": "code",
   "execution_count": 5,
   "metadata": {},
   "outputs": [],
   "source": [
    "def type_of_user(datum, city):\n",
    "    \"\"\"\n",
    "    Takes as input a dictionary containing info about a single trip (datum) and\n",
    "    its origin city (city) and returns the type of system user that made the\n",
    "    trip.\n",
    "    \n",
    "    Remember that Washington has different category names compared to Chicago\n",
    "    and NYC. \n",
    "    \"\"\"\n",
    "    \n",
    "    # YOUR CODE HERE\n",
    "    if city=='Washington':\n",
    "        if datum['Member Type']=='Registered':\n",
    "            user_type='Subscriber'\n",
    "        elif datum['Member Type']=='Casual':\n",
    "            user_type='Customer'\n",
    "    elif city=='Chicago' or city=='NYC':\n",
    "        user_type= datum['usertype']\n",
    "    return user_type\n",
    "\n",
    "\n",
    "# Some tests to check that your code works. There should be no output if all of\n",
    "# the assertions pass. The `example_trips` dictionary was obtained from when\n",
    "# you printed the first trip from each of the original data files.\n",
    "tests = {'NYC': 'Customer',\n",
    "         'Chicago': 'Subscriber',\n",
    "         'Washington': 'Subscriber'}\n",
    "\n",
    "for city in tests:\n",
    "    assert type_of_user(example_trips[city], city) == tests[city]"
   ]
  },
  {
   "cell_type": "markdown",
   "metadata": {},
   "source": [
    "**Question 3b**: Now, use the helper functions you wrote above to create a condensed data file for each city consisting only of the data fields indicated above. In the `/examples/` folder, you will see an example datafile from the [Bay Area Bike Share](http://www.bayareabikeshare.com/open-data) before and after conversion. Make sure that your output is formatted to be consistent with the example file."
   ]
  },
  {
   "cell_type": "code",
   "execution_count": 6,
   "metadata": {},
   "outputs": [],
   "source": [
    "def condense_data(in_file, out_file, city):\n",
    "    \"\"\"\n",
    "    This function takes full data from the specified input file\n",
    "    and writes the condensed data to a specified output file. The city\n",
    "    argument determines how the input file will be parsed.\n",
    "    \n",
    "    HINT: See the cell below to see how the arguments are structured!\n",
    "    \"\"\"\n",
    "    \n",
    "    with open(out_file, 'w') as f_out, open(in_file, 'r') as f_in:\n",
    "        # set up csv DictWriter object - writer requires column names for the\n",
    "        # first row as the \"fieldnames\" argument\n",
    "        out_colnames = ['duration', 'month', 'hour', 'day_of_week', 'user_type']        \n",
    "        trip_writer = csv.DictWriter(f_out, fieldnames = out_colnames)\n",
    "        trip_writer.writeheader()\n",
    "        \n",
    "        ## TODO: set up csv DictReader object ##\n",
    "        trip_reader = csv.DictReader(f_in)\n",
    "\n",
    "        # collect data from and process each row\n",
    "        for row in trip_reader:\n",
    "            # set up a dictionary to hold the values for the cleaned and trimmed\n",
    "            # data point\n",
    "            new_point = {}\n",
    "                        \n",
    "            ## TODO: use the helper functions to get the cleaned data from  ##\n",
    "            ## the original data dictionaries.                              ##\n",
    "            ## Note that the keys for the new_point dictionary should match ##\n",
    "            ## the column names set in the DictWriter object above.         ##\n",
    "            if city=='Washington':\n",
    "                \n",
    "                duration= int(row['Duration (ms)'])/60000\n",
    "                \n",
    "                date_time=datetime.strptime(row['Start date'], '%m/%d/%Y %H:%M')\n",
    "                \n",
    "                if row['Member Type']=='Registered':\n",
    "                    user_type='Subscriber'\n",
    "                elif row['Member Type']=='Casual':\n",
    "                    user_type='Customer'\n",
    "            \n",
    "            elif city=='Chicago':\n",
    "                \n",
    "                duration= int(row['tripduration'])/60\n",
    "                \n",
    "                date_time=datetime.strptime(row['starttime'], '%m/%d/%Y %H:%M')\n",
    "         \n",
    "                user_type= row['usertype']\n",
    "\n",
    "            elif city=='NYC':\n",
    "                \n",
    "                duration= int(row['tripduration'])/60\n",
    "                \n",
    "                date_time=datetime.strptime(row['starttime'], '%m/%d/%Y %H:%M:%S')\n",
    "                \n",
    "                user_type= row['usertype']\n",
    "                \n",
    "            month=date_time.date().month\n",
    "            hour=date_time.time().hour\n",
    "            day_of_week=date_time.date().strftime('%A')\n",
    "\n",
    "            new_point['duration']=duration\n",
    "            new_point['month']= month\n",
    "            new_point['hour']= hour\n",
    "            new_point['day_of_week']=day_of_week\n",
    "            new_point['user_type']=user_type\n",
    "            \n",
    "            ## TODO: write the processed information to the output file.     ##\n",
    "            ## see https://docs.python.org/3/library/csv.html#writer-objects ##\n",
    "            trip_writer.writerow(new_point)"
   ]
  },
  {
   "cell_type": "code",
   "execution_count": 7,
   "metadata": {},
   "outputs": [
    {
     "name": "stdout",
     "output_type": "stream",
     "text": [
      "\n",
      "City: Washington\n",
      "OrderedDict([('duration', '7.123116666666666'),\n",
      "             ('month', '3'),\n",
      "             ('hour', '22'),\n",
      "             ('day_of_week', 'Thursday'),\n",
      "             ('user_type', 'Subscriber')])\n",
      "\n",
      "City: Chicago\n",
      "OrderedDict([('duration', '15.433333333333334'),\n",
      "             ('month', '3'),\n",
      "             ('hour', '23'),\n",
      "             ('day_of_week', 'Thursday'),\n",
      "             ('user_type', 'Subscriber')])\n",
      "\n",
      "City: NYC\n",
      "OrderedDict([('duration', '13.983333333333333'),\n",
      "             ('month', '1'),\n",
      "             ('hour', '0'),\n",
      "             ('day_of_week', 'Friday'),\n",
      "             ('user_type', 'Customer')])\n"
     ]
    }
   ],
   "source": [
    "# Run this cell to check your work\n",
    "city_info = {'Washington': {'in_file': './data/Washington-CapitalBikeshare-2016.csv',\n",
    "                            'out_file': './data/Washington-2016-Summary.csv'},\n",
    "             'Chicago': {'in_file': './data/Chicago-Divvy-2016.csv',\n",
    "                         'out_file': './data/Chicago-2016-Summary.csv'},\n",
    "             'NYC': {'in_file': './data/NYC-CitiBike-2016.csv',\n",
    "                     'out_file': './data/NYC-2016-Summary.csv'}}\n",
    "\n",
    "for city, filenames in city_info.items():\n",
    "    condense_data(filenames['in_file'], filenames['out_file'], city)\n",
    "    print_first_point(filenames['out_file'])"
   ]
  },
  {
   "cell_type": "markdown",
   "metadata": {},
   "source": [
    "<a id='eda'></a>\n",
    "## Exploratory Data Analysis\n",
    "\n",
    "Now that you have the data collected and wrangled, you're ready to start exploring the data. In this section you will write some code to compute descriptive statistics from the data. You will also be introduced to the `matplotlib` library to create some basic histograms of the data.\n",
    "\n",
    "<a id='statistics'></a>\n",
    "### Statistics\n",
    "\n",
    "First, let's compute some basic counts. The first cell below contains a function that uses the csv module to iterate through a provided data file, returning the number of trips made by subscribers and customers. The second cell runs this function on the example Bay Area data in the `/examples/` folder. Modify the cells to answer the question below.\n",
    "\n",
    "**Question 4a**: Which city has the highest number of trips? Which city has the highest proportion of trips made by subscribers? Which city has the highest proportion of trips made by short-term customers?\n",
    "\n",
    "**Answer**:"
   ]
  },
  {
   "cell_type": "code",
   "execution_count": 8,
   "metadata": {},
   "outputs": [],
   "source": [
    "def number_of_trips(filename):\n",
    "    \"\"\"\n",
    "    This function reads in a file with trip data and reports the number of\n",
    "    trips made by subscribers, customers, and total overall.\n",
    "    \"\"\"\n",
    "    with open(filename, 'r') as f_in:\n",
    "        # set up csv reader object\n",
    "        reader = csv.DictReader(f_in)\n",
    "        \n",
    "        # initialize count variables\n",
    "        n_subscribers = 0\n",
    "        n_customers = 0\n",
    "        \n",
    "        # tally up ride types\n",
    "        for row in reader:\n",
    "            if row['user_type'] == 'Subscriber':\n",
    "                n_subscribers += 1\n",
    "            else:\n",
    "                n_customers += 1\n",
    "        \n",
    "        # compute total number of rides\n",
    "        n_total = n_subscribers + n_customers\n",
    "        \n",
    "        # return tallies as a tuple\n",
    "        return (n_subscribers, n_customers, n_total)"
   ]
  },
  {
   "cell_type": "code",
   "execution_count": 9,
   "metadata": {},
   "outputs": [],
   "source": [
    "## Modify this and the previous cell to answer Question 4a. Remember to run ##\n",
    "## the function on the cleaned data files you created from Question 3.      ##\n",
    "\n",
    "Washington_data_file='./data/Washington-2016-Summary.csv'\n",
    "Chicago_data_file='./data/Chicago-2016-Summary.csv'\n",
    "NYC_data_file='./data/NYC-2016-Summary.csv'\n",
    "\n",
    "# I am taking the advantage of tuple unpacking. The (number_of_trips) function return a tuple , I will\n",
    "# unpack this tuple and assign it to three different variables.\n",
    "Washington_subscribers,Washington_customers,Washington_total=number_of_trips(Washington_data_file)\n",
    "Chicago_subscribers,Chicago_customers,Chicago_total=number_of_trips(Chicago_data_file)\n",
    "NYC_subscribers,NYC_customers,NYC_total=number_of_trips(NYC_data_file)"
   ]
  },
  {
   "cell_type": "code",
   "execution_count": 10,
   "metadata": {},
   "outputs": [
    {
     "name": "stdout",
     "output_type": "stream",
     "text": [
      "The city that has the highest number of trips is NYC\n"
     ]
    }
   ],
   "source": [
    "#city has the highest number of trips\n",
    "city_with_heighest_trips= max(Washington_total, Chicago_total, NYC_total)\n",
    "    \n",
    "if city_with_heighest_trips==Washington_total:\n",
    "    print(\"The city that has the highest number of trips is Washington\")\n",
    "elif city_with_heighest_trips==Chicago_total:\n",
    "    print(\"The city that has the highest number of trips is Chicago\")\n",
    "else:\n",
    "    print(\"The city that has the highest number of trips is NYC\")"
   ]
  },
  {
   "cell_type": "code",
   "execution_count": 11,
   "metadata": {},
   "outputs": [
    {
     "name": "stdout",
     "output_type": "stream",
     "text": [
      "The city that has the highest proportion of trips made by subscribers: NYC\n"
     ]
    }
   ],
   "source": [
    "#city has the highest proportion of trips made by subscribers\n",
    "Washington_subscribers_proportion=round(Washington_subscribers/Washington_total, 2)\n",
    "Chicago_subscribers_proportion=round(Chicago_subscribers/Chicago_total, 2)\n",
    "NYC_subscribers_proportion=round(NYC_subscribers/NYC_total, 2)\n",
    "\n",
    "city_with_heighest_subscriber_trips= max(Washington_subscribers_proportion, Chicago_subscribers_proportion, NYC_subscribers_proportion)\n",
    "    \n",
    "if city_with_heighest_subscriber_trips==Washington_subscribers_proportion:\n",
    "    print(\"The city that has the highest proportion of trips made by subscribers: Washington\")\n",
    "elif city_with_heighest_subscriber_trips==Chicago_subscribers_proportion:\n",
    "    print(\"The city that has the highest proportion of trips made by subscribers: Chicago\")\n",
    "else:\n",
    "    print(\"The city that has the highest proportion of trips made by subscribers: NYC\")"
   ]
  },
  {
   "cell_type": "code",
   "execution_count": 12,
   "metadata": {},
   "outputs": [
    {
     "name": "stdout",
     "output_type": "stream",
     "text": [
      "The city that has the highest proportion of trips made by customers: Chicago\n"
     ]
    }
   ],
   "source": [
    "#city has the highest proportion of trips made by customers\n",
    "Washington_customers_proportion=round(Washington_customers/Washington_total, 2)\n",
    "Chicago_customers_proportion=round(Chicago_customers/Chicago_total, 2)\n",
    "NYC_customers_proportion=round(NYC_customers/NYC_total, 2)\n",
    "\n",
    "city_with_heighest_customer_trips= max(Washington_customers_proportion, Chicago_customers_proportion, NYC_customers_proportion)\n",
    "    \n",
    "if city_with_heighest_customer_trips==Washington_customers_proportion:\n",
    "    print(\"The city that has the highest proportion of trips made by customers: Washington\")\n",
    "elif city_with_heighest_customer_trips==Chicago_customers_proportion:\n",
    "    print(\"The city that has the highest proportion of trips made by customers: Chicago\")\n",
    "else:\n",
    "    print(\"The city that has the highest proportion of trips made by customers: NYC\")"
   ]
  },
  {
   "cell_type": "markdown",
   "metadata": {},
   "source": [
    "Now, you will write your own code to continue investigating properties of the data.\n",
    "\n",
    "**Question 4b**: Bike-share systems are designed for riders to take short trips. Most of the time, users are allowed to take trips of 30 minutes or less with no additional charges, with overage charges made for trips of longer than that duration. What is the average trip length for each city? What proportion of rides made in each city are longer than 30 minutes?\n",
    "\n",
    "**Answer**: "
   ]
  },
  {
   "cell_type": "code",
   "execution_count": 13,
   "metadata": {},
   "outputs": [],
   "source": [
    "def average_trip_length(filename):\n",
    "    \"\"\"\n",
    "    This function reads in a file with trip data and reports the average trip length.\n",
    "    \"\"\"\n",
    "    duration=[]\n",
    "    with open(filename, 'r') as f_in:\n",
    "        reader = csv.DictReader(f_in)\n",
    "        for row in reader:\n",
    "            duration.append(float(row['duration']))\n",
    "    \n",
    "    #Calculating average by (adding all the values in the duration list) and (dividing result of addition\n",
    "    #by number of elements in the list)\n",
    "    return round((sum(duration)/len(duration)),2) "
   ]
  },
  {
   "cell_type": "code",
   "execution_count": 14,
   "metadata": {},
   "outputs": [],
   "source": [
    "def more_than_average(filename):\n",
    "    \"\"\"\n",
    "    This function reads in a file with trip data and reports the averag proportion of rides \n",
    "    that are longer than 30 minutes.\n",
    "    \"\"\"\n",
    "    duration=[]\n",
    "    with open(filename, 'r') as f_in:\n",
    "        reader = csv.DictReader(f_in)\n",
    "        for row in reader:\n",
    "            duration.append(float(row['duration']))\n",
    "    \n",
    "    #Filter: takes two arguments. The first one is a function (here I made it as a lambda expression\n",
    "    #that check the value if it is greater that 30). The second argument is an iterable (here I am\n",
    "    #passing the duration list that contains all duration). The filter will return elements from list \n",
    "    #which greater that 30\n",
    "    more_than_30min= filter(lambda x: x>30, duration)\n",
    "    \n",
    "    return round(((len(list(more_than_30min)))/len(duration))*100,2)"
   ]
  },
  {
   "cell_type": "code",
   "execution_count": 15,
   "metadata": {},
   "outputs": [
    {
     "name": "stdout",
     "output_type": "stream",
     "text": [
      "The average trip length of Washington is: 18.93 and 10.84% of trips are longer than 30 minutes\n",
      "The average trip length of Chicago is: 16.56 and 8.33% of trips are longer than 30 minutes\n",
      "The average trip length of NYC is: 15.81 and 7.3% of trips are longer than 30 minutes\n"
     ]
    }
   ],
   "source": [
    "print(\"The average trip length of Washington is: {} and {}% of trips are longer than 30 minutes\".format(average_trip_length(Washington_data_file),more_than_average(Washington_data_file)))\n",
    "print(\"The average trip length of Chicago is: {} and {}% of trips are longer than 30 minutes\".format(average_trip_length(Chicago_data_file),more_than_average(Chicago_data_file)))\n",
    "print(\"The average trip length of NYC is: {} and {}% of trips are longer than 30 minutes\".format(average_trip_length(NYC_data_file),more_than_average(NYC_data_file)))"
   ]
  },
  {
   "cell_type": "markdown",
   "metadata": {},
   "source": [
    "**Question 4c**: Dig deeper into the question of trip duration based on ridership. Choose one city. Within that city, which type of user takes longer rides on average: Subscribers or Customers?\n",
    "\n",
    "**Answer**: "
   ]
  },
  {
   "cell_type": "code",
   "execution_count": 20,
   "metadata": {},
   "outputs": [],
   "source": [
    "## Use this and additional cells to answer Question 4c. If you have    ##\n",
    "## not done so yet, consider revising some of your previous code to    ##\n",
    "## make use of functions for reusability.                              ##\n",
    "##                                                                     ##\n",
    "## TIP: For the Bay Area example data, you should find the average     ##\n",
    "## Subscriber trip duration to be 9.5 minutes and the average Customer ##\n",
    "## trip duration to be 54.6 minutes. Do the other cities have this     ##\n",
    "## level of difference?                                                ##\n"
   ]
  },
  {
   "cell_type": "code",
   "execution_count": 16,
   "metadata": {},
   "outputs": [
    {
     "name": "stdout",
     "output_type": "stream",
     "text": [
      "The customer average trip duration is: 32.78 which is greater than average duration of subscriber that is=13.68\n"
     ]
    }
   ],
   "source": [
    "subscribers_duration=[]\n",
    "customers_duration=[]\n",
    "   \n",
    "with open('./data/NYC-2016-Summary.csv', 'r') as f_in:\n",
    "    reader = csv.DictReader(f_in)\n",
    "    for row in reader:\n",
    "        if (row['user_type']=='Subscriber'):\n",
    "            subscribers_duration.append(float(row['duration']))\n",
    "        else:\n",
    "            customers_duration.append(float(row['duration']))\n",
    "    \n",
    "average_subscriber_duration=round((sum(subscribers_duration)/len(subscribers_duration)),2)\n",
    "average_customer_duration=round((sum(customers_duration)/len(customers_duration)),2)\n",
    "\n",
    "if average_subscriber_duration > average_customer_duration:\n",
    "    print(\"The subscriber average trip duration is: {} which is greater than average duration of customer that is={}\".format(average_subscriber_duration,average_customer_duration))\n",
    "    \n",
    "else:\n",
    "    print(\"The customer average trip duration is: {} which is greater than average duration of subscriber that is={}\".format(average_customer_duration,average_subscriber_duration))\n",
    "\n",
    "    "
   ]
  },
  {
   "cell_type": "code",
   "execution_count": 17,
   "metadata": {},
   "outputs": [
    {
     "name": "stdout",
     "output_type": "stream",
     "text": [
      "In the city of New York, 13131 subscribers took trips longer than 30 minutes, against 0 short term customers\n"
     ]
    }
   ],
   "source": [
    "def trip_duration(file_name):\n",
    "\n",
    "    with open(file_name) as f_in:\n",
    "        \n",
    "        trip_reader = csv.DictReader(f_in)    \n",
    "\n",
    "        trip_length = 0\n",
    "        short_trips_subs = 0\n",
    "        short_trips_customer = 0\n",
    "        long_trips_subs = 0\n",
    "        long_trips_customer = 0\n",
    "        \n",
    "        \n",
    "        for row in trip_reader:\n",
    "            if row['user_type'] == 'Subscriber':\n",
    "                trip_length += float(row['duration'])\n",
    "                if float(row['duration']) > 30:\n",
    "                    long_trips_subs += 1\n",
    "                else: \n",
    "                    short_trips_subs += 1\n",
    "        else: \n",
    "            trip_length += float(row['duration'])\n",
    "            if float(row['duration']) > 30:\n",
    "                long_trips_customer += 1\n",
    "            else: \n",
    "                short_trips_customer += 1\n",
    "        \n",
    "    \n",
    "        return  long_trips_subs, long_trips_customer\n",
    "    \n",
    "    file_name == './data/NYC-2016-Summary.csv'\n",
    "\n",
    "    \n",
    "            \n",
    "print(\"In the city of New York, {} subscribers took trips longer than 30 minutes, against {} short term customers\".format(trip_duration('./data/NYC-2016-Summary.csv')[0],trip_duration('./data/NYC-2016-Summary.csv')[1]))"
   ]
  },
  {
   "cell_type": "markdown",
   "metadata": {},
   "source": [
    "<a id='visualizations'></a>\n",
    "### Visualizations\n",
    "\n",
    "The last set of values that you computed should have pulled up an interesting result. While the mean trip time for Subscribers is well under 30 minutes, the mean trip time for Customers is actually _above_ 30 minutes! It will be interesting for us to look at how the trip times are distributed. In order to do this, a new library will be introduced here, `matplotlib`. Run the cell below to load the library and to generate an example plot."
   ]
  },
  {
   "cell_type": "code",
   "execution_count": 18,
   "metadata": {},
   "outputs": [
    {
     "data": {
      "image/png": "[encoded data removed]",
      "text/plain": [
       "<matplotlib.figure.Figure at 0x7f108013f208>"
      ]
     },
     "metadata": {
      "needs_background": "light"
     },
     "output_type": "display_data"
    }
   ],
   "source": [
    "# load library\n",
    "import matplotlib.pyplot as plt\n",
    "\n",
    "# this is a 'magic word' that allows for plots to be displayed\n",
    "# inline with the notebook. If you want to know more, see:\n",
    "# http://ipython.readthedocs.io/en/stable/interactive/magics.html\n",
    "%matplotlib inline \n",
    "\n",
    "# example histogram, data taken from bay area sample\n",
    "data = [ 7.65,  8.92,  7.42,  5.50, 16.17,  4.20,  8.98,  9.62, 11.48, 14.33,\n",
    "        19.02, 21.53,  3.90,  7.97,  2.62,  2.67,  3.08, 14.40, 12.90,  7.83,\n",
    "        25.12,  8.30,  4.93, 12.43, 10.60,  6.17, 10.88,  4.78, 15.15,  3.53,\n",
    "         9.43, 13.32, 11.72,  9.85,  5.22, 15.10,  3.95,  3.17,  8.78,  1.88,\n",
    "         4.55, 12.68, 12.38,  9.78,  7.63,  6.45, 17.38, 11.90, 11.52,  8.63,]\n",
    "plt.hist(data)\n",
    "plt.title('Distribution of Trip Durations')\n",
    "plt.xlabel('Duration (m)')\n",
    "plt.show()"
   ]
  },
  {
   "cell_type": "markdown",
   "metadata": {},
   "source": [
    "In the above cell, we collected fifty trip times in a list, and passed this list as the first argument to the `.hist()` function. This function performs the computations and creates plotting objects for generating a histogram, but the plot is actually not rendered until the `.show()` function is executed. The `.title()` and `.xlabel()` functions provide some labeling for plot context.\n",
    "\n",
    "You will now use these functions to create a histogram of the trip times for the city you selected in question 4c. Don't separate the Subscribers and Customers for now: just collect all of the trip times and plot them."
   ]
  },
  {
   "cell_type": "code",
   "execution_count": 18,
   "metadata": {},
   "outputs": [
    {
     "data": {
      "image/png": "[encoded data removed]",
      "text/plain": [
       "<matplotlib.figure.Figure at 0x7f484c084ba8>"
      ]
     },
     "metadata": {},
     "output_type": "display_data"
    }
   ],
   "source": [
    "## Use this and additional cells to collect all of the trip times as a list ##\n",
    "## and then use pyplot functions to generate a histogram of trip times.     ##\n",
    "\n",
    "washington_trip_duration=[]\n",
    "\n",
    "with open(Washington_data_file, 'r') as f_in:\n",
    "    reader = csv.DictReader(f_in)\n",
    "    for row in reader:\n",
    "        washington_trip_duration.append(round(float(row['duration']),2)) \n",
    "\n",
    "plt.hist(washington_trip_duration)\n",
    "plt.title('Trip Duration of Washington Users')\n",
    "plt.xlabel('Duration (m)')\n",
    "plt.show()"
   ]
  },
  {
   "cell_type": "markdown",
   "metadata": {},
   "source": [
    "If you followed the use of the `.hist()` and `.show()` functions exactly like in the example, you're probably looking at a plot that's completely unexpected. The plot consists of one extremely tall bar on the left, maybe a very short second bar, and a whole lot of empty space in the center and right. Take a look at the duration values on the x-axis. This suggests that there are some highly infrequent outliers in the data. Instead of reprocessing the data, you will use additional parameters with the `.hist()` function to limit the range of data that is plotted. Documentation for the function can be found [[here]](https://matplotlib.org/devdocs/api/_as_gen/matplotlib.pyplot.hist.html#matplotlib.pyplot.hist).\n",
    "\n",
    "**Question 5**: Use the parameters of the `.hist()` function to plot the distribution of trip times for the Subscribers in your selected city. Do the same thing for only the Customers. Add limits to the plots so that only trips of duration less than 75 minutes are plotted. As a bonus, set the plots up so that bars are in five-minute wide intervals. For each group, where is the peak of each distribution? How would you describe the shape of each distribution?\n",
    "\n",
    "**Answer**: "
   ]
  },
  {
   "cell_type": "code",
   "execution_count": 22,
   "metadata": {},
   "outputs": [
    {
     "data": {
      "image/png": "[encoded data removed]",
      "text/plain": [
       "<matplotlib.figure.Figure at 0x7f105ef1f588>"
      ]
     },
     "metadata": {
      "needs_background": "light"
     },
     "output_type": "display_data"
    }
   ],
   "source": [
    "## Use this and additional cells to answer Question 5. ##\n",
    "import numpy as np\n",
    "\n",
    "plt.xticks(np.arange(0,75,step=5))#this is for making five wide interval at x-axis\n",
    "plt.hist(subscribers_duration,bins=20, range=(0,75))\n",
    "plt.title('Distribution of Subscriber Trip Durations at Washington')\n",
    "plt.xlabel('Duration (m)')\n",
    "plt.margins(x=0)\n",
    "plt.show()"
   ]
  },
  {
   "cell_type": "markdown",
   "metadata": {},
   "source": [
    "In the above figure, the peak of subscribers trip durations seems to be between 5 and 10 minutes. \n",
    "<br>\n",
    "The shape of distribution is right skewed"
   ]
  },
  {
   "cell_type": "code",
   "execution_count": 20,
   "metadata": {},
   "outputs": [
    {
     "data": {
      "image/png": "[encoded data removed]",
      "text/plain": [
       "<matplotlib.figure.Figure at 0x7f4828428ba8>"
      ]
     },
     "metadata": {},
     "output_type": "display_data"
    }
   ],
   "source": [
    "plt.xticks(np.arange(0,75,step=5))#this is for making five wide interval at x-axis\n",
    "plt.hist(customers_duration,bins=20, range=(0,75))\n",
    "plt.title('Distribution of Customer Trip Durations at Washington')\n",
    "plt.xlabel('Duration (m)')\n",
    "plt.margins(x=0)\n",
    "plt.show()"
   ]
  },
  {
   "cell_type": "markdown",
   "metadata": {},
   "source": [
    "In the above figure, the peak of trip durations seems to be between 15 and 25 minutes. \n",
    "<br>\n",
    "The shape of distribution is approximately as normal distribution on the left but then the values suddenly decreased. "
   ]
  },
  {
   "cell_type": "markdown",
   "metadata": {
    "collapsed": true
   },
   "source": [
    "<a id='eda_continued'></a>\n",
    "## Performing Your Own Analysis\n",
    "\n",
    "So far, you've performed an initial exploration into the data available. You have compared the relative volume of trips made between three U.S. cities and the ratio of trips made by Subscribers and Customers. For one of these cities, you have investigated differences between Subscribers and Customers in terms of how long a typical trip lasts. Now it is your turn to continue the exploration in a direction that you choose. Here are a few suggestions for questions to explore:\n",
    "\n",
    "- How does ridership differ by month or season? Which month / season has the highest ridership? Does the ratio of Subscriber trips to Customer trips change depending on the month or season?\n",
    "- Is the pattern of ridership different on the weekends versus weekdays? On what days are Subscribers most likely to use the system? What about Customers? Does the average duration of rides change depending on the day of the week?\n",
    "- During what time of day is the system used the most? Is there a difference in usage patterns for Subscribers and Customers?\n",
    "\n",
    "If any of the questions you posed in your answer to question 1 align with the bullet points above, this is a good opportunity to investigate one of them. As part of your investigation, you will need to create a visualization. If you want to create something other than a histogram, then you might want to consult the [Pyplot documentation](https://matplotlib.org/devdocs/api/pyplot_summary.html). In particular, if you are plotting values across a categorical variable (e.g. city, user type), a bar chart will be useful. The [documentation page for `.bar()`](https://matplotlib.org/devdocs/api/_as_gen/matplotlib.pyplot.bar.html#matplotlib.pyplot.bar) includes links at the bottom of the page with examples for you to build off of for your own use.\n",
    "\n",
    "**Question 6**: Continue the investigation by exploring another question that could be answered by the data available. Document the question you want to explore below. Your investigation should involve at least two variables and should compare at least two groups. You should also use at least one visualization as part of your explorations.\n",
    "\n",
    "**Answer**: "
   ]
  },
  {
   "cell_type": "code",
   "execution_count": 19,
   "metadata": {},
   "outputs": [
    {
     "name": "stdout",
     "output_type": "stream",
     "text": [
      "The number of trips in each months are as follow:  {'January': 2434, 'February': 2854, 'March': 5571, 'April': 5602, 'May': 5768, 'June': 7320, 'July': 7341, 'August': 7198, 'September': 6878, 'October': 6792, 'November': 5214, 'December': 3354}\n",
      "The month that has the highest trips: July, it has 7341 trips\n"
     ]
    }
   ],
   "source": [
    "## Use this and additional cells to continue to explore the dataset. ##\n",
    "## Once you have performed your exploration, document your findings  ##\n",
    "## in the Markdown cell above.                                       ##\n",
    "\n",
    "months={'January':0, 'February':0, 'March':0, 'April':0, 'May':0, 'June':0, 'July':0, 'August':0, \n",
    "        'September':0,'October':0, 'November':0, 'December':0}\n",
    "\n",
    "with open(Washington_data_file, 'r') as f_in:\n",
    "\n",
    "    reader = csv.DictReader(f_in)\n",
    "\n",
    "    for row in reader:\n",
    "        if row['month'] == '1':\n",
    "            months['January']+=1\n",
    "        elif row['month'] == '2':\n",
    "            months['February']+=1\n",
    "        elif row['month'] == '3':\n",
    "            months['March']+=1\n",
    "        elif row['month'] == '4':\n",
    "            months['April']+=1\n",
    "        elif row['month'] == '5':\n",
    "            months['May']+=1\n",
    "        elif row['month'] == '6':\n",
    "            months['June']+=1\n",
    "        elif row['month'] == '7':\n",
    "            months['July']+=1\n",
    "        elif row['month'] == '8':\n",
    "            months['August']+=1\n",
    "        elif row['month'] == '9':\n",
    "            months['September']+=1\n",
    "        elif row['month'] == '10':\n",
    "            months['October']+=1\n",
    "        elif row['month'] == '11':\n",
    "            months['November']+=1\n",
    "        elif row['month'] == '12':\n",
    "            months['December']+=1\n",
    "            \n",
    "print(\"The number of trips in each months are as follow: \",months)\n",
    "month_with_highest_trips= max(months, key=months.get)\n",
    "print(\"The month that has the highest trips: {}, it has {} trips\".format(month_with_highest_trips, months[month_with_highest_trips]))"
   ]
  },
  {
   "cell_type": "markdown",
   "metadata": {},
   "source": [
    "In question 1, I wrote a question about which month has the highest rideship. \n",
    "<br>\n",
    "After analyzing and writting the above code, I found that **July** has the highest number of trips.\n",
    "<br>\n",
    "Next, I will see how subscriber trips and customer trips change depending on the month.\n",
    "<br>\n",
    "Also, I will visualize this part of the analysis.\n"
   ]
  },
  {
   "cell_type": "code",
   "execution_count": 20,
   "metadata": {},
   "outputs": [
    {
     "name": "stdout",
     "output_type": "stream",
     "text": [
      "Ratio of subscriber trips to customer trips during each month:\n",
      "January:9.96\n",
      "February:9.08\n",
      "March:3.69\n",
      "April:3.7\n",
      "May:3.62\n",
      "June:3.29\n",
      "July:2.36\n",
      "August:2.99\n",
      "September:3.11\n",
      "October:3.35\n",
      "November:3.85\n",
      "December:6.76\n"
     ]
    }
   ],
   "source": [
    "subscribers_monthly_trips={'January':0, 'February':0, 'March':0, 'April':0, 'May':0, 'June':0, \n",
    "                           'July':0, 'August':0,'September':0,'October':0, 'November':0, 'December':0}\n",
    "\n",
    "customers_monthly_trips={'January':0, 'February':0, 'March':0, 'April':0, 'May':0, 'June':0, 'July':0,\n",
    "                         'August':0, 'September':0,'October':0, 'November':0, 'December':0}\n",
    "\n",
    "with open(Washington_data_file, 'r') as f_in:\n",
    "    \n",
    "    reader = csv.DictReader(f_in)\n",
    "\n",
    "    for row in reader:\n",
    "        if row['user_type']=='Subscriber':\n",
    "            if row['month'] == '1':\n",
    "                subscribers_monthly_trips['January']+=1\n",
    "            elif row['month'] == '2':\n",
    "                subscribers_monthly_trips['February']+=1\n",
    "            elif row['month'] == '3':\n",
    "                subscribers_monthly_trips['March']+=1\n",
    "            elif row['month'] == '4':\n",
    "                subscribers_monthly_trips['April']+=1\n",
    "            elif row['month'] == '5':\n",
    "                subscribers_monthly_trips['May']+=1\n",
    "            elif row['month'] == '6':\n",
    "                subscribers_monthly_trips['June']+=1\n",
    "            elif row['month'] == '7':\n",
    "                subscribers_monthly_trips['July']+=1\n",
    "            elif row['month'] == '8':\n",
    "                subscribers_monthly_trips['August']+=1\n",
    "            elif row['month'] == '9':\n",
    "                subscribers_monthly_trips['September']+=1\n",
    "            elif row['month'] == '10':\n",
    "                subscribers_monthly_trips['October']+=1\n",
    "            elif row['month'] == '11':\n",
    "                subscribers_monthly_trips['November']+=1\n",
    "            elif row['month'] == '12':\n",
    "                subscribers_monthly_trips['December']+=1\n",
    "        else:\n",
    "            if row['month'] == '1':\n",
    "                customers_monthly_trips['January']+=1\n",
    "            elif row['month'] == '2':\n",
    "                customers_monthly_trips['February']+=1\n",
    "            elif row['month'] == '3':\n",
    "                customers_monthly_trips['March']+=1\n",
    "            elif row['month'] == '4':\n",
    "                customers_monthly_trips['April']+=1\n",
    "            elif row['month'] == '5':\n",
    "                customers_monthly_trips['May']+=1\n",
    "            elif row['month'] == '6':\n",
    "                customers_monthly_trips['June']+=1\n",
    "            elif row['month'] == '7':\n",
    "                customers_monthly_trips['July']+=1\n",
    "            elif row['month'] == '8':\n",
    "                customers_monthly_trips['August']+=1\n",
    "            elif row['month'] == '9':\n",
    "                customers_monthly_trips['September']+=1\n",
    "            elif row['month'] == '10':\n",
    "                customers_monthly_trips['October']+=1\n",
    "            elif row['month'] == '11':\n",
    "                customers_monthly_trips['November']+=1\n",
    "            elif row['month'] == '12':\n",
    "                customers_monthly_trips['December']+=1\n",
    "                \n",
    "print(\"Ratio of subscriber trips to customer trips during each month:\")\n",
    "print(\"January:{}\".format(round(subscribers_monthly_trips['January']/customers_monthly_trips['January'],2)))\n",
    "print(\"February:{}\".format(round(subscribers_monthly_trips['February']/customers_monthly_trips['February'],2)))\n",
    "print(\"March:{}\".format(round(subscribers_monthly_trips['March']/customers_monthly_trips['March'],2)))\n",
    "print(\"April:{}\".format(round(subscribers_monthly_trips['April']/customers_monthly_trips['April'],2)))\n",
    "print(\"May:{}\".format(round(subscribers_monthly_trips['May']/customers_monthly_trips['May'],2)))\n",
    "print(\"June:{}\".format(round(subscribers_monthly_trips['June']/customers_monthly_trips['June'],2)))\n",
    "print(\"July:{}\".format(round(subscribers_monthly_trips['July']/customers_monthly_trips['July'],2)))\n",
    "print(\"August:{}\".format(round(subscribers_monthly_trips['August']/customers_monthly_trips['August'],2)))\n",
    "print(\"September:{}\".format(round(subscribers_monthly_trips['September']/customers_monthly_trips['September'],2)))\n",
    "print(\"October:{}\".format(round(subscribers_monthly_trips['October']/customers_monthly_trips['October'],2)))\n",
    "print(\"November:{}\".format(round(subscribers_monthly_trips['November']/customers_monthly_trips['November'],2)))\n",
    "print(\"December:{}\".format(round(subscribers_monthly_trips['December']/customers_monthly_trips['December'],2)))"
   ]
  },
  {
   "cell_type": "code",
   "execution_count": 23,
   "metadata": {},
   "outputs": [
    {
     "data": {
      "image/png": "[encoded data removed]",
      "text/plain": [
       "<matplotlib.figure.Figure at 0x7f105efc7c18>"
      ]
     },
     "metadata": {
      "needs_background": "light"
     },
     "output_type": "display_data"
    }
   ],
   "source": [
    "# I convert values of dictionary into list in order to plot it \n",
    "subscriber_trips = list(subscribers_monthly_trips.values())\n",
    "customer_trips = list(customers_monthly_trips.values())\n",
    "\n",
    "x=np.arange(len(subscriber_trips))# len(subscriber_trips) to count how many values in list and this will\n",
    "                                  # help us to put 12 months in the x-axis \n",
    "bar_width=.3\n",
    "\n",
    "plt.bar(x, subscriber_trips,width=bar_width,color='g', align='center')\n",
    "plt.bar(x+bar_width,customer_trips, width=bar_width,color='r',align='center')\n",
    "plt.xticks(x, [\"Jan.\", \"Feb.\", \"Mar.\", \"Apr.\", \"May\", \"Jun.\", \"Jul.\", \"Aug.\", \"Sep.\", \"Oct.\", \"Nov.\", \"Dec.\"])\n",
    "plt.title('Subscriber and Customer Monthly Trips')\n",
    "plt.xlabel('Month')\n",
    "plt.ylabel('Number of Trips')\n",
    "plt.legend(['Subscriber', 'Customer'])\n",
    "plt.show()"
   ]
  },
  {
   "cell_type": "markdown",
   "metadata": {},
   "source": [
    "In the above figure, it is obvious that subsctiber trips at each month is higher than customer trips"
   ]
  },
  {
   "cell_type": "markdown",
   "metadata": {},
   "source": [
    "Now, I will do further analysis of ridership on the weekends versus weekdays"
   ]
  },
  {
   "cell_type": "code",
   "execution_count": 24,
   "metadata": {},
   "outputs": [
    {
     "name": "stdout",
     "output_type": "stream",
     "text": [
      "Number of trips at weekdays: 49199 and number of trips at weekends: 17127\n"
     ]
    }
   ],
   "source": [
    "weekdays_trips=0\n",
    "weekend_trips=0\n",
    "\n",
    "with open(Washington_data_file, 'r') as f_in:\n",
    "    \n",
    "    reader = csv.DictReader(f_in)\n",
    "    \n",
    "    for row in reader:\n",
    "        if row['day_of_week'] == 'Monday' or row['day_of_week'] == 'Tuesday'or row['day_of_week'] == 'Wednesday' or row['day_of_week'] == 'Thursday' or row['day_of_week'] == 'Friday':\n",
    "            weekdays_trips+=1\n",
    "        elif row['day_of_week'] == 'Saturday' or row['day_of_week'] == 'Sunday':\n",
    "            weekend_trips+=1\n",
    "                \n",
    "print(\"Number of trips at weekdays: {} and number of trips at weekends: {}\".format(weekdays_trips,weekend_trips))"
   ]
  },
  {
   "cell_type": "code",
   "execution_count": 26,
   "metadata": {},
   "outputs": [
    {
     "data": {
      "image/png": "[encoded data removed]",
      "text/plain": [
       "<matplotlib.figure.Figure at 0x7f4828201f60>"
      ]
     },
     "metadata": {},
     "output_type": "display_data"
    }
   ],
   "source": [
    "labels = ['Weekdays','Weekends']\n",
    "plt.bar([1,2], [weekdays_trips, weekend_trips], align='center')\n",
    "plt.xticks([1,2], labels)\n",
    "plt.ylabel('Number of Trips')\n",
    "plt.title('Trips at Weekdays and Weekends')\n",
    "plt.show()"
   ]
  },
  {
   "cell_type": "markdown",
   "metadata": {},
   "source": [
    "Now, I will see the subsciber average trip duration during weekdays and week. \n",
    "<br>\n",
    "I will do the same for the customer"
   ]
  },
  {
   "cell_type": "code",
   "execution_count": 27,
   "metadata": {},
   "outputs": [
    {
     "name": "stdout",
     "output_type": "stream",
     "text": [
      "Average trip duration of subscribers during weekdays: 12.4\n",
      "Average trip duration of subscribers during weekends: 13.03\n",
      "Average trip duration of customers during weekdays: 39.89\n",
      "Average trip duration of customers during weekends: 44.04\n"
     ]
    }
   ],
   "source": [
    "subscriber_duration_at_weekday=[]\n",
    "subscriber_duration_at_weekend=[]\n",
    "\n",
    "customer_duration_at_weekday=[]\n",
    "customer_duration_at_weekend=[]\n",
    "\n",
    "with open(Washington_data_file, 'r') as f_in:\n",
    "    reader = csv.DictReader(f_in)\n",
    "    for row in reader:\n",
    "        if row['user_type']=='Subscriber':\n",
    "            if row['day_of_week'] == 'Monday' or row['day_of_week'] == 'Tuesday'or row['day_of_week'] == 'Wednesday' or row['day_of_week'] == 'Thursday' or row['day_of_week'] == 'Friday':\n",
    "                subscriber_duration_at_weekday.append(float(row['duration']))\n",
    "            elif row['day_of_week'] == 'Saturday' or row['day_of_week'] == 'Sunday':\n",
    "                subscriber_duration_at_weekend.append(float(row['duration']))\n",
    "                \n",
    "        elif row['user_type']=='Customer':\n",
    "            if row['day_of_week'] == 'Monday' or row['day_of_week'] == 'Tuesday'or row['day_of_week'] == 'Wednesday' or row['day_of_week'] == 'Thursday' or row['day_of_week'] == 'Friday':\n",
    "                customer_duration_at_weekday.append(float(row['duration']))\n",
    "            elif row['day_of_week'] == 'Saturday' or row['day_of_week'] == 'Sunday':\n",
    "                customer_duration_at_weekend.append(float(row['duration']))\n",
    "\n",
    "subscribers_average_duration_weekdays=round(sum(subscriber_duration_at_weekday)/len(subscriber_duration_at_weekday),2)\n",
    "subscribers_average_duration_weekends=round(sum(subscriber_duration_at_weekend)/len(subscriber_duration_at_weekend),2)\n",
    "\n",
    "customers_average_duration_weekdays=round(sum(customer_duration_at_weekday)/len(customer_duration_at_weekday),2)\n",
    "customers_average_duration_weekends=round(sum(customer_duration_at_weekend)/len(customer_duration_at_weekend),2)\n",
    "\n",
    "print(\"Average trip duration of subscribers during weekdays: {}\".format(subscribers_average_duration_weekdays))\n",
    "print(\"Average trip duration of subscribers during weekends: {}\".format(subscribers_average_duration_weekends))\n",
    "print(\"Average trip duration of customers during weekdays: {}\".format(customers_average_duration_weekdays))\n",
    "print(\"Average trip duration of customers during weekends: {}\".format(customers_average_duration_weekends))"
   ]
  },
  {
   "cell_type": "code",
   "execution_count": 28,
   "metadata": {},
   "outputs": [
    {
     "data": {
      "image/png": "[encoded data removed]",
      "text/plain": [
       "<matplotlib.figure.Figure at 0x7f482825aba8>"
      ]
     },
     "metadata": {},
     "output_type": "display_data"
    }
   ],
   "source": [
    "plt.bar([1,2], [subscribers_average_duration_weekdays, subscribers_average_duration_weekends], align='center')\n",
    "plt.xticks([1,2], labels)\n",
    "plt.ylabel('Average Trip Duration')\n",
    "plt.title('Subscriber Average Trip Duration at Weekdays and Weekend')\n",
    "plt.show()"
   ]
  },
  {
   "cell_type": "code",
   "execution_count": 29,
   "metadata": {},
   "outputs": [
    {
     "data": {
      "image/png": "[encoded data removed]",
      "text/plain": [
       "<matplotlib.figure.Figure at 0x7f48281450b8>"
      ]
     },
     "metadata": {},
     "output_type": "display_data"
    }
   ],
   "source": [
    "plt.bar([1,2], [customers_average_duration_weekdays, customers_average_duration_weekends], align='center')\n",
    "plt.xticks([1,2], labels)\n",
    "plt.ylabel('Average Trip Duration')\n",
    "plt.title('Customer Average Trip Duration at Weekdays and Weekend')\n",
    "plt.show()"
   ]
  },
  {
   "cell_type": "markdown",
   "metadata": {},
   "source": [
    "The two above graphs, show that the average trip duration at weekends is higher than weekdays for both type of user. I think during weekends the users have more time for rides therefore, duration is going to be higher than weekdays. "
   ]
  },
  {
   "cell_type": "markdown",
   "metadata": {},
   "source": [
    "<a id='conclusions'></a>\n",
    "## Conclusions\n",
    "\n",
    "Congratulations on completing the project! This is only a sampling of the data analysis process: from generating questions, wrangling the data, and to exploring the data. Normally, at this point in the data analysis process, you might want to draw conclusions about the data by performing a statistical test or fitting the data to a model for making predictions. There are also a lot of potential analyses that could be performed on the data which are not possible with only the data provided. For example, detailed location data has not been investigated. Where are the most commonly used docks? What are the most common routes? As another example, weather has potential to have a large impact on daily ridership. How much is ridership impacted when there is rain or snow? Are subscribers or customers affected more by changes in weather?\n",
    "\n",
    "**Question 7**: Putting the bike share data aside, think of a topic or field of interest where you would like to be able to apply the techniques of data science. What would you like to be able to learn from your chosen subject?\n",
    "\n",
    "**Answer**:\n",
    "\n",
    "\n",
    "I have a strong passion toward education. I always want to help in making the education better. I always read about using data science in the fields of (bussiness, medical and etc.). I couldn't find how we can apply data science in the education field until I found a book about (Data Analytics Applications in Education). It explains how the data can be used to enhance the learning process and enrich the learning experience. \n",
    "<br>\n",
    "I understand how data science can be helpful in education. We can help student to get better grades and providing them with real-time feed back. Also, we can help teachers to enhance their performance. All of this and more can be done with applying data science in the education filed.\n",
    "<br><br>\n",
    "My master project about student assessment and achievement tracking tool. I deal with a lot of student grades and try to follow achievement of each student at the course level and at the learning outcome level.Also, I try to calculate different statistics about students' achievements. When I start working on my project, I wasn't aware of data science field and now I become more passionate to enhance my project and to apply what I learned in order to achieve my goals."
   ]
  },
  {
   "cell_type": "markdown",
   "metadata": {},
   "source": [
    "**Resources:**\n",
    "<br>\n",
    "In addition to the official Python documentation, I searched more about dealing with CSV in Python and how to draw histogram.\n",
    "<br>\n",
    "https://brodan.biz/blog/parsing-csv-files-with-python/\n",
    "<br>\n",
    "https://stackabuse.com/converting-strings-to-datetime-in-python/\n",
    "<br>\n",
    "https://medium.com/python-pandemonium/data-visualization-in-python-histogram-in-matplotlib-dce38f49f89c"
   ]
  },
  {
   "cell_type": "code",
   "execution_count": null,
   "metadata": {
    "collapsed": true
   },
   "outputs": [],
   "source": [
    "from subprocess import call\n",
    "call(['python', '-m', 'nbconvert', 'Bike_Share_Analysis.ipynb'])"
   ]
  }
 ],
 "metadata": {
  "anaconda-cloud": {},
  "kernelspec": {
   "display_name": "Python 3",
   "language": "python",
   "name": "python3"
  },
  "language_info": {
   "codemirror_mode": {
    "name": "ipython",
    "version": 3
   },
   "file_extension": ".py",
   "mimetype": "text/x-python",
   "name": "python",
   "nbconvert_exporter": "python",
   "pygments_lexer": "ipython3",
   "version": "3.6.3"
  }
 },
 "nbformat": 4,
 "nbformat_minor": 1
}
